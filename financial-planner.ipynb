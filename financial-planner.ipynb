{
 "cells": [
  {
   "cell_type": "markdown",
   "metadata": {},
   "source": [
    "# Unit 5 - Financial Planning"
   ]
  },
  {
   "cell_type": "code",
   "execution_count": 3,
   "metadata": {},
   "outputs": [],
   "source": [
    "# Initial imports\n",
    "import os\n",
    "import requests\n",
    "import pandas as pd\n",
    "from dotenv import load_dotenv, dotenv_values\n",
    "import alpaca_trade_api as tradeapi\n",
    "from MCForecastTools import MCSimulation\n",
    "\n",
    "%matplotlib inline"
   ]
  },
  {
   "cell_type": "code",
   "execution_count": 4,
   "metadata": {},
   "outputs": [
    {
     "data": {
      "text/plain": [
       "True"
      ]
     },
     "execution_count": 4,
     "metadata": {},
     "output_type": "execute_result"
    }
   ],
   "source": [
    "# Load .env enviroment variables\n",
    "path_to_env=r\"C:\\Users\\ikili\\Downloads\\monu-virt-fin-11-2021-u-c-master\\Homework\\Week 5\\Starter_Code\\.env\"\n",
    "load_dotenv(path_to_env)"
   ]
  },
  {
   "cell_type": "code",
   "execution_count": 5,
   "metadata": {},
   "outputs": [
    {
     "name": "stdout",
     "output_type": "stream",
     "text": [
      "True\n"
     ]
    }
   ],
   "source": [
    "print(load_dotenv())"
   ]
  },
  {
   "cell_type": "code",
   "execution_count": 6,
   "metadata": {},
   "outputs": [],
   "source": [
    "#os.getenv(\"ALPACA_API_KEY\")"
   ]
  },
  {
   "cell_type": "code",
   "execution_count": 7,
   "metadata": {},
   "outputs": [],
   "source": [
    "#print(env_values)"
   ]
  },
  {
   "cell_type": "code",
   "execution_count": 8,
   "metadata": {},
   "outputs": [],
   "source": [
    "env_values=dotenv_values(path_to_env)"
   ]
  },
  {
   "cell_type": "code",
   "execution_count": 9,
   "metadata": {},
   "outputs": [
    {
     "name": "stdout",
     "output_type": "stream",
     "text": [
      "C:\\Users\\ikili\\Downloads\\monu-virt-fin-11-2021-u-c-master\\Homework\\Week 5\\Starter_Code\\.env\n"
     ]
    }
   ],
   "source": [
    "print(path_to_env)"
   ]
  },
  {
   "cell_type": "code",
   "execution_count": 86,
   "metadata": {},
   "outputs": [],
   "source": [
    "#print(env_values['ALPACA_API_KEY'])"
   ]
  },
  {
   "cell_type": "markdown",
   "metadata": {},
   "source": [
    "## Part 1 - Personal Finance Planner"
   ]
  },
  {
   "cell_type": "markdown",
   "metadata": {},
   "source": [
    "### Collect Crypto Prices Using the `requests` Library"
   ]
  },
  {
   "cell_type": "code",
   "execution_count": 11,
   "metadata": {},
   "outputs": [],
   "source": [
    "# Set current amount of crypto assets\n",
    "# YOUR CODE HERE!\n",
    "my_btc = 1.2\n",
    "my_eth = 5.3"
   ]
  },
  {
   "cell_type": "code",
   "execution_count": 12,
   "metadata": {},
   "outputs": [],
   "source": [
    "# Crypto API URLs\n",
    "btc_url = \"https://api.alternative.me/v2/ticker/Bitcoin/?convert=CAD\"\n",
    "eth_url = \"https://api.alternative.me/v2/ticker/Ethereum/?convert=CAD\""
   ]
  },
  {
   "cell_type": "code",
   "execution_count": 13,
   "metadata": {},
   "outputs": [],
   "source": [
    "# Fetch current BTC price\n",
    "btc_response_data = requests.get(btc_url).json()"
   ]
  },
  {
   "cell_type": "code",
   "execution_count": 14,
   "metadata": {},
   "outputs": [
    {
     "data": {
      "text/plain": [
       "{'data': {'1': {'id': 1,\n",
       "   'name': 'Bitcoin',\n",
       "   'symbol': 'BTC',\n",
       "   'website_slug': 'bitcoin',\n",
       "   'rank': 1,\n",
       "   'circulating_supply': 18900575,\n",
       "   'total_supply': 18900575,\n",
       "   'max_supply': 21000000,\n",
       "   'quotes': {'USD': {'price': 47306.0,\n",
       "     'volume_24h': 31404261497,\n",
       "     'market_cap': 891458396468,\n",
       "     'percentage_change_1h': 1.20783501374311,\n",
       "     'percentage_change_24h': -3.46634510551597,\n",
       "     'percentage_change_7d': -6.25337121735269,\n",
       "     'percent_change_1h': 1.20783501374311,\n",
       "     'percent_change_24h': -3.46634510551597,\n",
       "     'percent_change_7d': -6.25337121735269},\n",
       "    'CAD': {'price': 60556.4106,\n",
       "     'volume_24h': 40200595142.3097,\n",
       "     'market_cap': 1141155893318.69,\n",
       "     'percent_change_1h': 1.20783501374311,\n",
       "     'percent_change_24h': -3.46634510551597,\n",
       "     'percent_change_7d': -6.25337121735269}},\n",
       "   'last_updated': 1639470210}},\n",
       " 'metadata': {'timestamp': 1639470210,\n",
       "  'num_cryptocurrencies': 3105,\n",
       "  'error': None}}"
      ]
     },
     "execution_count": 14,
     "metadata": {},
     "output_type": "execute_result"
    }
   ],
   "source": [
    "btc_response_data"
   ]
  },
  {
   "cell_type": "code",
   "execution_count": 15,
   "metadata": {},
   "outputs": [],
   "source": [
    "# Current BTC price in Canadian Dollars\n",
    "btc_cad=btc_response_data[\"data\"][\"1\"][\"quotes\"][\"CAD\"][\"price\"]"
   ]
  },
  {
   "cell_type": "code",
   "execution_count": 16,
   "metadata": {},
   "outputs": [
    {
     "data": {
      "text/plain": [
       "60556.4106"
      ]
     },
     "execution_count": 16,
     "metadata": {},
     "output_type": "execute_result"
    }
   ],
   "source": [
    "btc_cad"
   ]
  },
  {
   "cell_type": "code",
   "execution_count": 17,
   "metadata": {},
   "outputs": [],
   "source": [
    "# Current BTC price in US Dollars\n",
    "btc_usd=btc_response_data[\"data\"][\"1\"][\"quotes\"][\"USD\"][\"price\"]"
   ]
  },
  {
   "cell_type": "code",
   "execution_count": 18,
   "metadata": {},
   "outputs": [
    {
     "data": {
      "text/plain": [
       "47306.0"
      ]
     },
     "execution_count": 18,
     "metadata": {},
     "output_type": "execute_result"
    }
   ],
   "source": [
    "btc_usd"
   ]
  },
  {
   "cell_type": "code",
   "execution_count": 19,
   "metadata": {},
   "outputs": [],
   "source": [
    "# Fetch current ETH price\n",
    "eth_response_data = requests.get(eth_url).json()"
   ]
  },
  {
   "cell_type": "code",
   "execution_count": 20,
   "metadata": {},
   "outputs": [
    {
     "data": {
      "text/plain": [
       "{'data': {'1027': {'id': 1027,\n",
       "   'name': 'Ethereum',\n",
       "   'symbol': 'ETH',\n",
       "   'website_slug': 'ethereum',\n",
       "   'rank': 2,\n",
       "   'circulating_supply': 118732898,\n",
       "   'total_supply': 118732898,\n",
       "   'max_supply': 0,\n",
       "   'quotes': {'USD': {'price': 3814.96,\n",
       "     'volume_24h': 25140617186,\n",
       "     'market_cap': 450850684359,\n",
       "     'percentage_change_1h': 1.84478659821159,\n",
       "     'percentage_change_24h': -4.91491063136641,\n",
       "     'percentage_change_7d': -12.2517270239791,\n",
       "     'percent_change_1h': 1.84478659821159,\n",
       "     'percent_change_24h': -4.91491063136641,\n",
       "     'percent_change_7d': -12.2517270239791},\n",
       "    'CAD': {'price': 4883.530296,\n",
       "     'volume_24h': 32182504059.7986,\n",
       "     'market_cap': 577133961047.956,\n",
       "     'percent_change_1h': 1.84478659821159,\n",
       "     'percent_change_24h': -4.91491063136641,\n",
       "     'percent_change_7d': -12.2517270239791}},\n",
       "   'last_updated': 1639470255}},\n",
       " 'metadata': {'timestamp': 1639470255,\n",
       "  'num_cryptocurrencies': 3105,\n",
       "  'error': None}}"
      ]
     },
     "execution_count": 20,
     "metadata": {},
     "output_type": "execute_result"
    }
   ],
   "source": [
    "eth_response_data"
   ]
  },
  {
   "cell_type": "code",
   "execution_count": 21,
   "metadata": {},
   "outputs": [],
   "source": [
    "# Current ETH price in Canadian Dollars\n",
    "eth_cad=eth_response_data[\"data\"][\"1027\"][\"quotes\"][\"CAD\"][\"price\"]"
   ]
  },
  {
   "cell_type": "code",
   "execution_count": 22,
   "metadata": {},
   "outputs": [
    {
     "data": {
      "text/plain": [
       "4883.530296"
      ]
     },
     "execution_count": 22,
     "metadata": {},
     "output_type": "execute_result"
    }
   ],
   "source": [
    "eth_cad"
   ]
  },
  {
   "cell_type": "code",
   "execution_count": 23,
   "metadata": {},
   "outputs": [],
   "source": [
    "# Current ETH price in US Dollars\n",
    "eth_usd=eth_response_data[\"data\"][\"1027\"][\"quotes\"][\"USD\"][\"price\"]"
   ]
  },
  {
   "cell_type": "code",
   "execution_count": 24,
   "metadata": {},
   "outputs": [
    {
     "data": {
      "text/plain": [
       "3814.96"
      ]
     },
     "execution_count": 24,
     "metadata": {},
     "output_type": "execute_result"
    }
   ],
   "source": [
    "eth_usd"
   ]
  },
  {
   "cell_type": "code",
   "execution_count": 25,
   "metadata": {},
   "outputs": [
    {
     "name": "stdout",
     "output_type": "stream",
     "text": [
      "Current BTC closing price in CAD: $60556.41\n",
      "Current BTC closing price in USD: $47306.0\n",
      "--------------------------------------------\n",
      "Current ETH closing price in CAD: $4883.53\n",
      "Current ETH closing price in USD: $3814.96\n"
     ]
    }
   ],
   "source": [
    "print(f\"Current BTC closing price in CAD: ${btc_cad:0.2f}\")\n",
    "print(f\"Current BTC closing price in USD: ${btc_usd}\")\n",
    "print(f\"--------------------------------------------\")\n",
    "print(f\"Current ETH closing price in CAD: ${eth_cad:0.2f}\")\n",
    "print(f\"Current ETH closing price in USD: ${eth_usd}\")"
   ]
  },
  {
   "cell_type": "code",
   "execution_count": 26,
   "metadata": {},
   "outputs": [],
   "source": [
    "# Compute current value of my crypto\n",
    "my_btc_value=my_btc*btc_usd\n",
    "my_eth_value=my_eth*eth_usd"
   ]
  },
  {
   "cell_type": "code",
   "execution_count": 27,
   "metadata": {},
   "outputs": [],
   "source": [
    "# The USD value of Cypto assests\n",
    "crypto = my_btc_value + my_eth_value"
   ]
  },
  {
   "cell_type": "code",
   "execution_count": 28,
   "metadata": {},
   "outputs": [
    {
     "name": "stdout",
     "output_type": "stream",
     "text": [
      "The current value of your 1.2 BTC is $56767.20\n",
      "The current value of your 5.3 ETH is $20219.29\n",
      "The current value of your Crypto is $76986.49\n"
     ]
    }
   ],
   "source": [
    "# Print current crypto wallet balance\n",
    "print(f\"The current value of your {my_btc} BTC is ${my_btc_value:0.2f}\")\n",
    "print(f\"The current value of your {my_eth} ETH is ${my_eth_value:0.2f}\")\n",
    "print(f\"The current value of your Crypto is ${crypto:0.2f}\")"
   ]
  },
  {
   "cell_type": "markdown",
   "metadata": {},
   "source": [
    "### Collect Investments Data Using Alpaca: `SPY` (stocks) and `AGG` (bonds)"
   ]
  },
  {
   "cell_type": "code",
   "execution_count": 29,
   "metadata": {},
   "outputs": [],
   "source": [
    "# Set current amount of shares\n",
    "my_agg = 200\n",
    "my_spy = 50"
   ]
  },
  {
   "cell_type": "code",
   "execution_count": 30,
   "metadata": {},
   "outputs": [],
   "source": [
    "path_to_env=r\"C:\\Users\\ikili\\Downloads\\monu-virt-fin-11-2021-u-c-master\\Homework\\Week 5\\Starter_Code\\.env\""
   ]
  },
  {
   "cell_type": "code",
   "execution_count": 31,
   "metadata": {},
   "outputs": [
    {
     "data": {
      "text/plain": [
       "True"
      ]
     },
     "execution_count": 31,
     "metadata": {},
     "output_type": "execute_result"
    }
   ],
   "source": [
    "load_dotenv(path_to_env)"
   ]
  },
  {
   "cell_type": "code",
   "execution_count": 32,
   "metadata": {},
   "outputs": [
    {
     "name": "stdout",
     "output_type": "stream",
     "text": [
      "Alpaca Key type: <class 'str'>\n",
      "Alpaca Secret Key type: <class 'str'>\n"
     ]
    }
   ],
   "source": [
    "# Set Alpaca API key and secret\n",
    "# YOUR CODE HERE!\n",
    "alpaca_api_key = os.getenv(\"ALPACA_API_KEY\")\n",
    "alpaca_secret_key = os.getenv(\"ALPACA_SECRET_KEY\")\n",
    "\n",
    "print(f\"Alpaca Key type: {type(alpaca_api_key)}\")\n",
    "print(f\"Alpaca Secret Key type: {type(alpaca_secret_key)}\")"
   ]
  },
  {
   "cell_type": "code",
   "execution_count": 33,
   "metadata": {},
   "outputs": [],
   "source": [
    "# Create the Alpaca API object\n",
    "# YOUR CODE HERE!\n",
    "alpaca = tradeapi.REST(\n",
    "    alpaca_api_key,\n",
    "    alpaca_secret_key,\n",
    "    api_version=\"v2\")"
   ]
  },
  {
   "cell_type": "code",
   "execution_count": 34,
   "metadata": {},
   "outputs": [],
   "source": [
    "# Format current date as ISO format\n",
    "today = pd.Timestamp(\"2020-10-22\", tz=\"America/New_York\").isoformat()"
   ]
  },
  {
   "cell_type": "code",
   "execution_count": 35,
   "metadata": {},
   "outputs": [],
   "source": [
    "# Set the tickers\n",
    "tickers = [\"AGG\", \"SPY\"]"
   ]
  },
  {
   "cell_type": "code",
   "execution_count": 36,
   "metadata": {},
   "outputs": [],
   "source": [
    "# Set timeframe to '1D' for Alpaca API\n",
    "timeframe = \"1D\""
   ]
  },
  {
   "cell_type": "code",
   "execution_count": 37,
   "metadata": {},
   "outputs": [],
   "source": [
    "# Get current closing prices for SPY and AGG\n",
    "df_portfolio = alpaca.get_barset(\n",
    "    tickers,\n",
    "    timeframe,\n",
    "    start = today,\n",
    "    end = today\n",
    ").df"
   ]
  },
  {
   "cell_type": "code",
   "execution_count": 38,
   "metadata": {},
   "outputs": [
    {
     "data": {
      "text/html": [
       "<div>\n",
       "<style scoped>\n",
       "    .dataframe tbody tr th:only-of-type {\n",
       "        vertical-align: middle;\n",
       "    }\n",
       "\n",
       "    .dataframe tbody tr th {\n",
       "        vertical-align: top;\n",
       "    }\n",
       "\n",
       "    .dataframe thead tr th {\n",
       "        text-align: left;\n",
       "    }\n",
       "\n",
       "    .dataframe thead tr:last-of-type th {\n",
       "        text-align: right;\n",
       "    }\n",
       "</style>\n",
       "<table border=\"1\" class=\"dataframe\">\n",
       "  <thead>\n",
       "    <tr>\n",
       "      <th></th>\n",
       "      <th colspan=\"5\" halign=\"left\">AGG</th>\n",
       "      <th colspan=\"5\" halign=\"left\">SPY</th>\n",
       "    </tr>\n",
       "    <tr>\n",
       "      <th></th>\n",
       "      <th>open</th>\n",
       "      <th>high</th>\n",
       "      <th>low</th>\n",
       "      <th>close</th>\n",
       "      <th>volume</th>\n",
       "      <th>open</th>\n",
       "      <th>high</th>\n",
       "      <th>low</th>\n",
       "      <th>close</th>\n",
       "      <th>volume</th>\n",
       "    </tr>\n",
       "    <tr>\n",
       "      <th>time</th>\n",
       "      <th></th>\n",
       "      <th></th>\n",
       "      <th></th>\n",
       "      <th></th>\n",
       "      <th></th>\n",
       "      <th></th>\n",
       "      <th></th>\n",
       "      <th></th>\n",
       "      <th></th>\n",
       "      <th></th>\n",
       "    </tr>\n",
       "  </thead>\n",
       "  <tbody>\n",
       "    <tr>\n",
       "      <th>2020-10-22 00:00:00-04:00</th>\n",
       "      <td>117.51</td>\n",
       "      <td>117.54</td>\n",
       "      <td>117.3</td>\n",
       "      <td>117.31</td>\n",
       "      <td>3938694</td>\n",
       "      <td>342.96</td>\n",
       "      <td>345.24</td>\n",
       "      <td>340.65</td>\n",
       "      <td>344.63</td>\n",
       "      <td>45094573</td>\n",
       "    </tr>\n",
       "  </tbody>\n",
       "</table>\n",
       "</div>"
      ],
      "text/plain": [
       "                              AGG                                     SPY  \\\n",
       "                             open    high    low   close   volume    open   \n",
       "time                                                                        \n",
       "2020-10-22 00:00:00-04:00  117.51  117.54  117.3  117.31  3938694  342.96   \n",
       "\n",
       "                                                             \n",
       "                             high     low   close    volume  \n",
       "time                                                         \n",
       "2020-10-22 00:00:00-04:00  345.24  340.65  344.63  45094573  "
      ]
     },
     "execution_count": 38,
     "metadata": {},
     "output_type": "execute_result"
    }
   ],
   "source": [
    "# Preview DataFrame\n",
    "df_portfolio"
   ]
  },
  {
   "cell_type": "code",
   "execution_count": 39,
   "metadata": {},
   "outputs": [],
   "source": [
    "# Pick AGG and SPY close prices\n",
    "agg_close_price = float(df_portfolio[\"AGG\"][\"close\"])"
   ]
  },
  {
   "cell_type": "code",
   "execution_count": 40,
   "metadata": {},
   "outputs": [
    {
     "data": {
      "text/plain": [
       "117.31"
      ]
     },
     "execution_count": 40,
     "metadata": {},
     "output_type": "execute_result"
    }
   ],
   "source": [
    "agg_close_price"
   ]
  },
  {
   "cell_type": "code",
   "execution_count": 41,
   "metadata": {},
   "outputs": [],
   "source": [
    "spy_close_price = float(df_portfolio[\"SPY\"][\"close\"])"
   ]
  },
  {
   "cell_type": "code",
   "execution_count": 42,
   "metadata": {},
   "outputs": [
    {
     "data": {
      "text/plain": [
       "344.63"
      ]
     },
     "execution_count": 42,
     "metadata": {},
     "output_type": "execute_result"
    }
   ],
   "source": [
    "spy_close_price"
   ]
  },
  {
   "cell_type": "code",
   "execution_count": 45,
   "metadata": {},
   "outputs": [
    {
     "name": "stdout",
     "output_type": "stream",
     "text": [
      "Current AGG closing price: $117.31\n",
      "Current SPY closing price: $344.63\n"
     ]
    }
   ],
   "source": [
    "# Print AGG and SPY close prices\n",
    "print(f\"Current AGG closing price: ${agg_close_price}\")\n",
    "print(f\"Current SPY closing price: ${spy_close_price}\")"
   ]
  },
  {
   "cell_type": "code",
   "execution_count": 46,
   "metadata": {},
   "outputs": [
    {
     "name": "stdout",
     "output_type": "stream",
     "text": [
      "The current value of your 50 SPY shares is $17231.50\n",
      "The current value of your 200 AGG shares is $23462.00\n",
      "The current value of your Shares is $40693.50\n"
     ]
    }
   ],
   "source": [
    "# Compute the current value of shares\n",
    "# YOUR CODE HERE!\n",
    "my_spy_value = my_spy * spy_close_price\n",
    "my_agg_value = my_agg * agg_close_price\n",
    "shares = my_spy_value + my_agg_value\n",
    "\n",
    "# Print current value of shares\n",
    "print(f\"The current value of your {my_spy} SPY shares is ${my_spy_value:0.2f}\")\n",
    "print(f\"The current value of your {my_agg} AGG shares is ${my_agg_value:0.2f}\")\n",
    "print(f\"The current value of your Shares is ${shares:0.2f}\")"
   ]
  },
  {
   "cell_type": "markdown",
   "metadata": {},
   "source": [
    "### Savings Health Analysis"
   ]
  },
  {
   "cell_type": "markdown",
   "metadata": {},
   "source": [
    "I am analysing the investment account whose values are expressed in the USD"
   ]
  },
  {
   "cell_type": "code",
   "execution_count": 47,
   "metadata": {},
   "outputs": [
    {
     "data": {
      "text/html": [
       "<div>\n",
       "<style scoped>\n",
       "    .dataframe tbody tr th:only-of-type {\n",
       "        vertical-align: middle;\n",
       "    }\n",
       "\n",
       "    .dataframe tbody tr th {\n",
       "        vertical-align: top;\n",
       "    }\n",
       "\n",
       "    .dataframe thead th {\n",
       "        text-align: right;\n",
       "    }\n",
       "</style>\n",
       "<table border=\"1\" class=\"dataframe\">\n",
       "  <thead>\n",
       "    <tr style=\"text-align: right;\">\n",
       "      <th></th>\n",
       "      <th>AMOUNT</th>\n",
       "    </tr>\n",
       "  </thead>\n",
       "  <tbody>\n",
       "    <tr>\n",
       "      <th>CRYPTO</th>\n",
       "      <td>76986.488</td>\n",
       "    </tr>\n",
       "    <tr>\n",
       "      <th>SHARES</th>\n",
       "      <td>40693.500</td>\n",
       "    </tr>\n",
       "  </tbody>\n",
       "</table>\n",
       "</div>"
      ],
      "text/plain": [
       "           AMOUNT\n",
       "CRYPTO  76986.488\n",
       "SHARES  40693.500"
      ]
     },
     "metadata": {},
     "output_type": "display_data"
    }
   ],
   "source": [
    "# Set monthly household income\n",
    "# YOUR CODE HERE!\n",
    "monthly_income = 12000\n",
    "\n",
    "# Consolidate financial assets data\n",
    "# YOUR CODE HERE!\n",
    "investments_data = {\"AMOUNT\": [crypto, shares]}\n",
    "investments = [\"CRYPTO\", \"SHARES\"]\n",
    "\n",
    "# Create savings DataFrame\n",
    "# YOUR CODE HERE!\n",
    "df_savings = pd.DataFrame(investments_data, index=investments)\n",
    "# Display savings DataFrame\n",
    "display(df_savings)"
   ]
  },
  {
   "cell_type": "code",
   "execution_count": 48,
   "metadata": {},
   "outputs": [
    {
     "data": {
      "text/plain": [
       "<AxesSubplot:title={'center':'Savings Portfolio Composition'}, ylabel='AMOUNT'>"
      ]
     },
     "execution_count": 48,
     "metadata": {},
     "output_type": "execute_result"
    },
    {
     "data": {
      "image/png": "[encoded data removed]",
      "text/plain": [
       "<Figure size 432x288 with 1 Axes>"
      ]
     },
     "metadata": {},
     "output_type": "display_data"
    }
   ],
   "source": [
    "# Plot savings pie chart\n",
    "# YOUR CODE HERE!\n",
    "df_savings.plot.pie(y=\"AMOUNT\", title=\"Savings Portfolio Composition\")"
   ]
  },
  {
   "cell_type": "code",
   "execution_count": 51,
   "metadata": {},
   "outputs": [
    {
     "name": "stdout",
     "output_type": "stream",
     "text": [
      "The emergency fund needed is $36000.00\n",
      "The current total savings are $117679.99\n",
      "Congratulations! Your emergency fund in good shape and you have a surplas of $81679.99\n"
     ]
    }
   ],
   "source": [
    "# Set ideal emergency fund\n",
    "emergency_fund = monthly_income * 3\n",
    "\n",
    "print(f\"The emergency fund needed is ${emergency_fund:0.2f}\")\n",
    "\n",
    "# Calculate total amount of savings\n",
    "current_total_savings=crypto+shares\n",
    "print(f\"The current total savings are ${current_total_savings:0.2f}\")\n",
    "\n",
    "# Compare the Total Savings amount to the amount of the required Emergency Fund\n",
    "# Validate saving health\n",
    "if current_total_savings > emergency_fund:\n",
    "    print(f\"Congratulations! Your emergency fund in good shape and you have a surplas of ${(current_total_savings-emergency_fund):0.2f}\")\n",
    "elif current_total_savings == emergency_fund:\n",
    "    print(f\"Congratulations! You have enough money in your emergency fund! Your have reached your financial goal and your emegency funds meets your minimum requirement of ${(emergency_fund):0.2f}\")\n",
    "else: \n",
    "    print(f\"Keep up the good work! You are ${(emergency_fund-current_total_savings):0.2f} away from reaching your emergency fund goal of ${(emergency_fund):0.2f}\")"
   ]
  },
  {
   "cell_type": "markdown",
   "metadata": {},
   "source": [
    "## Part 2 - Retirement Planning\n",
    "\n",
    "### Monte Carlo Simulation"
   ]
  },
  {
   "cell_type": "code",
   "execution_count": 53,
   "metadata": {},
   "outputs": [],
   "source": [
    "# Set start and end dates of five years back from today.\n",
    "# Sample results may vary from the solution based on the time frame chosen\n",
    "start_date = pd.Timestamp('2016-05-01', tz='America/New_York').isoformat()\n",
    "end_date = pd.Timestamp('2021-05-01', tz='America/New_York').isoformat()\n",
    "\n",
    "# Set timeframe to '1\n",
    "timeframe=\"1D\""
   ]
  },
  {
   "cell_type": "code",
   "execution_count": 54,
   "metadata": {},
   "outputs": [
    {
     "data": {
      "text/html": [
       "<div>\n",
       "<style scoped>\n",
       "    .dataframe tbody tr th:only-of-type {\n",
       "        vertical-align: middle;\n",
       "    }\n",
       "\n",
       "    .dataframe tbody tr th {\n",
       "        vertical-align: top;\n",
       "    }\n",
       "\n",
       "    .dataframe thead tr th {\n",
       "        text-align: left;\n",
       "    }\n",
       "\n",
       "    .dataframe thead tr:last-of-type th {\n",
       "        text-align: right;\n",
       "    }\n",
       "</style>\n",
       "<table border=\"1\" class=\"dataframe\">\n",
       "  <thead>\n",
       "    <tr>\n",
       "      <th></th>\n",
       "      <th colspan=\"5\" halign=\"left\">AGG</th>\n",
       "      <th colspan=\"5\" halign=\"left\">SPY</th>\n",
       "    </tr>\n",
       "    <tr>\n",
       "      <th></th>\n",
       "      <th>open</th>\n",
       "      <th>high</th>\n",
       "      <th>low</th>\n",
       "      <th>close</th>\n",
       "      <th>volume</th>\n",
       "      <th>open</th>\n",
       "      <th>high</th>\n",
       "      <th>low</th>\n",
       "      <th>close</th>\n",
       "      <th>volume</th>\n",
       "    </tr>\n",
       "    <tr>\n",
       "      <th>time</th>\n",
       "      <th></th>\n",
       "      <th></th>\n",
       "      <th></th>\n",
       "      <th></th>\n",
       "      <th></th>\n",
       "      <th></th>\n",
       "      <th></th>\n",
       "      <th></th>\n",
       "      <th></th>\n",
       "      <th></th>\n",
       "    </tr>\n",
       "  </thead>\n",
       "  <tbody>\n",
       "    <tr>\n",
       "      <th>2020-12-07 00:00:00-05:00</th>\n",
       "      <td>117.76</td>\n",
       "      <td>117.8262</td>\n",
       "      <td>117.6900</td>\n",
       "      <td>117.75</td>\n",
       "      <td>4689469</td>\n",
       "      <td>369.02</td>\n",
       "      <td>369.6200</td>\n",
       "      <td>367.72</td>\n",
       "      <td>369.1200</td>\n",
       "      <td>40456544</td>\n",
       "    </tr>\n",
       "    <tr>\n",
       "      <th>2020-12-08 00:00:00-05:00</th>\n",
       "      <td>117.88</td>\n",
       "      <td>117.9597</td>\n",
       "      <td>117.7500</td>\n",
       "      <td>117.77</td>\n",
       "      <td>3587353</td>\n",
       "      <td>367.72</td>\n",
       "      <td>370.7800</td>\n",
       "      <td>367.67</td>\n",
       "      <td>370.1599</td>\n",
       "      <td>32702217</td>\n",
       "    </tr>\n",
       "    <tr>\n",
       "      <th>2020-12-09 00:00:00-05:00</th>\n",
       "      <td>117.73</td>\n",
       "      <td>117.7800</td>\n",
       "      <td>117.5172</td>\n",
       "      <td>117.62</td>\n",
       "      <td>4720359</td>\n",
       "      <td>370.88</td>\n",
       "      <td>371.0500</td>\n",
       "      <td>365.95</td>\n",
       "      <td>366.8900</td>\n",
       "      <td>60700254</td>\n",
       "    </tr>\n",
       "    <tr>\n",
       "      <th>2020-12-10 00:00:00-05:00</th>\n",
       "      <td>117.74</td>\n",
       "      <td>117.9300</td>\n",
       "      <td>117.6900</td>\n",
       "      <td>117.88</td>\n",
       "      <td>4694024</td>\n",
       "      <td>365.37</td>\n",
       "      <td>367.8600</td>\n",
       "      <td>364.43</td>\n",
       "      <td>366.7200</td>\n",
       "      <td>47851654</td>\n",
       "    </tr>\n",
       "    <tr>\n",
       "      <th>2020-12-11 00:00:00-05:00</th>\n",
       "      <td>118.01</td>\n",
       "      <td>118.0900</td>\n",
       "      <td>117.9500</td>\n",
       "      <td>118.03</td>\n",
       "      <td>5537449</td>\n",
       "      <td>364.90</td>\n",
       "      <td>366.7402</td>\n",
       "      <td>363.26</td>\n",
       "      <td>366.2800</td>\n",
       "      <td>47917103</td>\n",
       "    </tr>\n",
       "  </tbody>\n",
       "</table>\n",
       "</div>"
      ],
      "text/plain": [
       "                              AGG                                       \\\n",
       "                             open      high       low   close   volume   \n",
       "time                                                                     \n",
       "2020-12-07 00:00:00-05:00  117.76  117.8262  117.6900  117.75  4689469   \n",
       "2020-12-08 00:00:00-05:00  117.88  117.9597  117.7500  117.77  3587353   \n",
       "2020-12-09 00:00:00-05:00  117.73  117.7800  117.5172  117.62  4720359   \n",
       "2020-12-10 00:00:00-05:00  117.74  117.9300  117.6900  117.88  4694024   \n",
       "2020-12-11 00:00:00-05:00  118.01  118.0900  117.9500  118.03  5537449   \n",
       "\n",
       "                              SPY                                        \n",
       "                             open      high     low     close    volume  \n",
       "time                                                                     \n",
       "2020-12-07 00:00:00-05:00  369.02  369.6200  367.72  369.1200  40456544  \n",
       "2020-12-08 00:00:00-05:00  367.72  370.7800  367.67  370.1599  32702217  \n",
       "2020-12-09 00:00:00-05:00  370.88  371.0500  365.95  366.8900  60700254  \n",
       "2020-12-10 00:00:00-05:00  365.37  367.8600  364.43  366.7200  47851654  \n",
       "2020-12-11 00:00:00-05:00  364.90  366.7402  363.26  366.2800  47917103  "
      ]
     },
     "execution_count": 54,
     "metadata": {},
     "output_type": "execute_result"
    }
   ],
   "source": [
    "# Get 5 years' worth of historical data for SPY and AGG\n",
    "# (use a limit=1000 parameter to call the most recent 1000 days of data)\n",
    "df_stock_data = alpaca.get_barset(\n",
    "    tickers,\n",
    "    timeframe,\n",
    "    start=start_date,\n",
    "    end=end_date\n",
    ").df\n",
    "\n",
    "# Display sample data\n",
    "df_stock_data.head()"
   ]
  },
  {
   "cell_type": "code",
   "execution_count": 55,
   "metadata": {},
   "outputs": [],
   "source": [
    "# Configuring a Monte Carlo simulation to forecast 30 years cumulative returns\n",
    "# The weights of the portfolio are set at 40% for Bonds (AGG) and 60% for Stocks\n",
    "MC = MCSimulation(\n",
    "    portfolio_data = df_stock_data,\n",
    "    weights = [.4,.6],\n",
    "    num_simulation = 500,\n",
    "    num_trading_days = 252*30\n",
    ")"
   ]
  },
  {
   "cell_type": "code",
   "execution_count": 56,
   "metadata": {},
   "outputs": [
    {
     "data": {
      "text/html": [
       "<div>\n",
       "<style scoped>\n",
       "    .dataframe tbody tr th:only-of-type {\n",
       "        vertical-align: middle;\n",
       "    }\n",
       "\n",
       "    .dataframe tbody tr th {\n",
       "        vertical-align: top;\n",
       "    }\n",
       "\n",
       "    .dataframe thead tr th {\n",
       "        text-align: left;\n",
       "    }\n",
       "\n",
       "    .dataframe thead tr:last-of-type th {\n",
       "        text-align: right;\n",
       "    }\n",
       "</style>\n",
       "<table border=\"1\" class=\"dataframe\">\n",
       "  <thead>\n",
       "    <tr>\n",
       "      <th></th>\n",
       "      <th colspan=\"6\" halign=\"left\">AGG</th>\n",
       "      <th colspan=\"6\" halign=\"left\">SPY</th>\n",
       "    </tr>\n",
       "    <tr>\n",
       "      <th></th>\n",
       "      <th>open</th>\n",
       "      <th>high</th>\n",
       "      <th>low</th>\n",
       "      <th>close</th>\n",
       "      <th>volume</th>\n",
       "      <th>daily_return</th>\n",
       "      <th>open</th>\n",
       "      <th>high</th>\n",
       "      <th>low</th>\n",
       "      <th>close</th>\n",
       "      <th>volume</th>\n",
       "      <th>daily_return</th>\n",
       "    </tr>\n",
       "    <tr>\n",
       "      <th>time</th>\n",
       "      <th></th>\n",
       "      <th></th>\n",
       "      <th></th>\n",
       "      <th></th>\n",
       "      <th></th>\n",
       "      <th></th>\n",
       "      <th></th>\n",
       "      <th></th>\n",
       "      <th></th>\n",
       "      <th></th>\n",
       "      <th></th>\n",
       "      <th></th>\n",
       "    </tr>\n",
       "  </thead>\n",
       "  <tbody>\n",
       "    <tr>\n",
       "      <th>2020-12-07 00:00:00-05:00</th>\n",
       "      <td>117.76</td>\n",
       "      <td>117.8262</td>\n",
       "      <td>117.6900</td>\n",
       "      <td>117.75</td>\n",
       "      <td>4689469</td>\n",
       "      <td>NaN</td>\n",
       "      <td>369.02</td>\n",
       "      <td>369.6200</td>\n",
       "      <td>367.72</td>\n",
       "      <td>369.1200</td>\n",
       "      <td>40456544</td>\n",
       "      <td>NaN</td>\n",
       "    </tr>\n",
       "    <tr>\n",
       "      <th>2020-12-08 00:00:00-05:00</th>\n",
       "      <td>117.88</td>\n",
       "      <td>117.9597</td>\n",
       "      <td>117.7500</td>\n",
       "      <td>117.77</td>\n",
       "      <td>3587353</td>\n",
       "      <td>0.000170</td>\n",
       "      <td>367.72</td>\n",
       "      <td>370.7800</td>\n",
       "      <td>367.67</td>\n",
       "      <td>370.1599</td>\n",
       "      <td>32702217</td>\n",
       "      <td>0.002817</td>\n",
       "    </tr>\n",
       "    <tr>\n",
       "      <th>2020-12-09 00:00:00-05:00</th>\n",
       "      <td>117.73</td>\n",
       "      <td>117.7800</td>\n",
       "      <td>117.5172</td>\n",
       "      <td>117.62</td>\n",
       "      <td>4720359</td>\n",
       "      <td>-0.001274</td>\n",
       "      <td>370.88</td>\n",
       "      <td>371.0500</td>\n",
       "      <td>365.95</td>\n",
       "      <td>366.8900</td>\n",
       "      <td>60700254</td>\n",
       "      <td>-0.008834</td>\n",
       "    </tr>\n",
       "    <tr>\n",
       "      <th>2020-12-10 00:00:00-05:00</th>\n",
       "      <td>117.74</td>\n",
       "      <td>117.9300</td>\n",
       "      <td>117.6900</td>\n",
       "      <td>117.88</td>\n",
       "      <td>4694024</td>\n",
       "      <td>0.002211</td>\n",
       "      <td>365.37</td>\n",
       "      <td>367.8600</td>\n",
       "      <td>364.43</td>\n",
       "      <td>366.7200</td>\n",
       "      <td>47851654</td>\n",
       "      <td>-0.000463</td>\n",
       "    </tr>\n",
       "    <tr>\n",
       "      <th>2020-12-11 00:00:00-05:00</th>\n",
       "      <td>118.01</td>\n",
       "      <td>118.0900</td>\n",
       "      <td>117.9500</td>\n",
       "      <td>118.03</td>\n",
       "      <td>5537449</td>\n",
       "      <td>0.001272</td>\n",
       "      <td>364.90</td>\n",
       "      <td>366.7402</td>\n",
       "      <td>363.26</td>\n",
       "      <td>366.2800</td>\n",
       "      <td>47917103</td>\n",
       "      <td>-0.001200</td>\n",
       "    </tr>\n",
       "  </tbody>\n",
       "</table>\n",
       "</div>"
      ],
      "text/plain": [
       "                              AGG                                       \\\n",
       "                             open      high       low   close   volume   \n",
       "time                                                                     \n",
       "2020-12-07 00:00:00-05:00  117.76  117.8262  117.6900  117.75  4689469   \n",
       "2020-12-08 00:00:00-05:00  117.88  117.9597  117.7500  117.77  3587353   \n",
       "2020-12-09 00:00:00-05:00  117.73  117.7800  117.5172  117.62  4720359   \n",
       "2020-12-10 00:00:00-05:00  117.74  117.9300  117.6900  117.88  4694024   \n",
       "2020-12-11 00:00:00-05:00  118.01  118.0900  117.9500  118.03  5537449   \n",
       "\n",
       "                                           SPY                              \\\n",
       "                          daily_return    open      high     low     close   \n",
       "time                                                                         \n",
       "2020-12-07 00:00:00-05:00          NaN  369.02  369.6200  367.72  369.1200   \n",
       "2020-12-08 00:00:00-05:00     0.000170  367.72  370.7800  367.67  370.1599   \n",
       "2020-12-09 00:00:00-05:00    -0.001274  370.88  371.0500  365.95  366.8900   \n",
       "2020-12-10 00:00:00-05:00     0.002211  365.37  367.8600  364.43  366.7200   \n",
       "2020-12-11 00:00:00-05:00     0.001272  364.90  366.7402  363.26  366.2800   \n",
       "\n",
       "                                                  \n",
       "                             volume daily_return  \n",
       "time                                              \n",
       "2020-12-07 00:00:00-05:00  40456544          NaN  \n",
       "2020-12-08 00:00:00-05:00  32702217     0.002817  \n",
       "2020-12-09 00:00:00-05:00  60700254    -0.008834  \n",
       "2020-12-10 00:00:00-05:00  47851654    -0.000463  \n",
       "2020-12-11 00:00:00-05:00  47917103    -0.001200  "
      ]
     },
     "execution_count": 56,
     "metadata": {},
     "output_type": "execute_result"
    }
   ],
   "source": [
    "# Printing the simulation input data\n",
    "MC.portfolio_data.head()"
   ]
  },
  {
   "cell_type": "code",
   "execution_count": 57,
   "metadata": {},
   "outputs": [
    {
     "name": "stdout",
     "output_type": "stream",
     "text": [
      "Running Monte Carlo simulation number 0.\n",
      "Running Monte Carlo simulation number 10.\n",
      "Running Monte Carlo simulation number 20.\n",
      "Running Monte Carlo simulation number 30.\n",
      "Running Monte Carlo simulation number 40.\n",
      "Running Monte Carlo simulation number 50.\n",
      "Running Monte Carlo simulation number 60.\n",
      "Running Monte Carlo simulation number 70.\n",
      "Running Monte Carlo simulation number 80.\n",
      "Running Monte Carlo simulation number 90.\n",
      "Running Monte Carlo simulation number 100.\n"
     ]
    },
    {
     "name": "stderr",
     "output_type": "stream",
     "text": [
      "C:\\Users\\ikili\\Downloads\\monu-virt-fin-11-2021-u-c-master\\Homework\\Week 5\\Starter_Code\\MCForecastTools.py:117: PerformanceWarning: DataFrame is highly fragmented.  This is usually the result of calling `frame.insert` many times, which has poor performance.  Consider joining all columns at once using pd.concat(axis=1) instead.  To get a de-fragmented frame, use `newframe = frame.copy()`\n",
      "  portfolio_cumulative_returns[n] = (1 + sim_df.fillna(0)).cumprod()\n"
     ]
    },
    {
     "name": "stdout",
     "output_type": "stream",
     "text": [
      "Running Monte Carlo simulation number 110.\n",
      "Running Monte Carlo simulation number 120.\n",
      "Running Monte Carlo simulation number 130.\n",
      "Running Monte Carlo simulation number 140.\n",
      "Running Monte Carlo simulation number 150.\n",
      "Running Monte Carlo simulation number 160.\n",
      "Running Monte Carlo simulation number 170.\n",
      "Running Monte Carlo simulation number 180.\n",
      "Running Monte Carlo simulation number 190.\n",
      "Running Monte Carlo simulation number 200.\n",
      "Running Monte Carlo simulation number 210.\n",
      "Running Monte Carlo simulation number 220.\n",
      "Running Monte Carlo simulation number 230.\n",
      "Running Monte Carlo simulation number 240.\n",
      "Running Monte Carlo simulation number 250.\n",
      "Running Monte Carlo simulation number 260.\n",
      "Running Monte Carlo simulation number 270.\n",
      "Running Monte Carlo simulation number 280.\n",
      "Running Monte Carlo simulation number 290.\n",
      "Running Monte Carlo simulation number 300.\n",
      "Running Monte Carlo simulation number 310.\n",
      "Running Monte Carlo simulation number 320.\n",
      "Running Monte Carlo simulation number 330.\n",
      "Running Monte Carlo simulation number 340.\n",
      "Running Monte Carlo simulation number 350.\n",
      "Running Monte Carlo simulation number 360.\n",
      "Running Monte Carlo simulation number 370.\n",
      "Running Monte Carlo simulation number 380.\n",
      "Running Monte Carlo simulation number 390.\n",
      "Running Monte Carlo simulation number 400.\n",
      "Running Monte Carlo simulation number 410.\n",
      "Running Monte Carlo simulation number 420.\n",
      "Running Monte Carlo simulation number 430.\n",
      "Running Monte Carlo simulation number 440.\n",
      "Running Monte Carlo simulation number 450.\n",
      "Running Monte Carlo simulation number 460.\n",
      "Running Monte Carlo simulation number 470.\n",
      "Running Monte Carlo simulation number 480.\n",
      "Running Monte Carlo simulation number 490.\n"
     ]
    },
    {
     "data": {
      "text/html": [
       "<div>\n",
       "<style scoped>\n",
       "    .dataframe tbody tr th:only-of-type {\n",
       "        vertical-align: middle;\n",
       "    }\n",
       "\n",
       "    .dataframe tbody tr th {\n",
       "        vertical-align: top;\n",
       "    }\n",
       "\n",
       "    .dataframe thead th {\n",
       "        text-align: right;\n",
       "    }\n",
       "</style>\n",
       "<table border=\"1\" class=\"dataframe\">\n",
       "  <thead>\n",
       "    <tr style=\"text-align: right;\">\n",
       "      <th></th>\n",
       "      <th>0</th>\n",
       "      <th>1</th>\n",
       "      <th>2</th>\n",
       "      <th>3</th>\n",
       "      <th>4</th>\n",
       "      <th>5</th>\n",
       "      <th>6</th>\n",
       "      <th>7</th>\n",
       "      <th>8</th>\n",
       "      <th>9</th>\n",
       "      <th>...</th>\n",
       "      <th>490</th>\n",
       "      <th>491</th>\n",
       "      <th>492</th>\n",
       "      <th>493</th>\n",
       "      <th>494</th>\n",
       "      <th>495</th>\n",
       "      <th>496</th>\n",
       "      <th>497</th>\n",
       "      <th>498</th>\n",
       "      <th>499</th>\n",
       "    </tr>\n",
       "  </thead>\n",
       "  <tbody>\n",
       "    <tr>\n",
       "      <th>0</th>\n",
       "      <td>1.000000</td>\n",
       "      <td>1.000000</td>\n",
       "      <td>1.000000</td>\n",
       "      <td>1.000000</td>\n",
       "      <td>1.000000</td>\n",
       "      <td>1.000000</td>\n",
       "      <td>1.000000</td>\n",
       "      <td>1.000000</td>\n",
       "      <td>1.000000</td>\n",
       "      <td>1.000000</td>\n",
       "      <td>...</td>\n",
       "      <td>1.000000</td>\n",
       "      <td>1.000000</td>\n",
       "      <td>1.000000</td>\n",
       "      <td>1.000000</td>\n",
       "      <td>1.000000</td>\n",
       "      <td>1.000000</td>\n",
       "      <td>1.000000</td>\n",
       "      <td>1.000000</td>\n",
       "      <td>1.000000</td>\n",
       "      <td>1.000000</td>\n",
       "    </tr>\n",
       "    <tr>\n",
       "      <th>1</th>\n",
       "      <td>0.999820</td>\n",
       "      <td>1.008056</td>\n",
       "      <td>1.000654</td>\n",
       "      <td>1.006443</td>\n",
       "      <td>0.995972</td>\n",
       "      <td>0.995993</td>\n",
       "      <td>1.002522</td>\n",
       "      <td>1.008661</td>\n",
       "      <td>0.992425</td>\n",
       "      <td>1.005371</td>\n",
       "      <td>...</td>\n",
       "      <td>0.991960</td>\n",
       "      <td>1.005713</td>\n",
       "      <td>0.998992</td>\n",
       "      <td>0.996914</td>\n",
       "      <td>1.003533</td>\n",
       "      <td>0.997148</td>\n",
       "      <td>1.001298</td>\n",
       "      <td>0.997457</td>\n",
       "      <td>0.992530</td>\n",
       "      <td>0.999586</td>\n",
       "    </tr>\n",
       "    <tr>\n",
       "      <th>2</th>\n",
       "      <td>1.002251</td>\n",
       "      <td>1.016415</td>\n",
       "      <td>1.005724</td>\n",
       "      <td>1.006064</td>\n",
       "      <td>0.999696</td>\n",
       "      <td>1.003822</td>\n",
       "      <td>0.998123</td>\n",
       "      <td>0.999359</td>\n",
       "      <td>0.989614</td>\n",
       "      <td>1.011140</td>\n",
       "      <td>...</td>\n",
       "      <td>0.998439</td>\n",
       "      <td>1.005275</td>\n",
       "      <td>1.011957</td>\n",
       "      <td>0.996911</td>\n",
       "      <td>1.012208</td>\n",
       "      <td>0.992994</td>\n",
       "      <td>1.003518</td>\n",
       "      <td>0.997487</td>\n",
       "      <td>0.988736</td>\n",
       "      <td>0.997772</td>\n",
       "    </tr>\n",
       "    <tr>\n",
       "      <th>3</th>\n",
       "      <td>1.006216</td>\n",
       "      <td>1.012419</td>\n",
       "      <td>1.014810</td>\n",
       "      <td>0.998159</td>\n",
       "      <td>0.996356</td>\n",
       "      <td>1.000235</td>\n",
       "      <td>1.007810</td>\n",
       "      <td>1.005172</td>\n",
       "      <td>0.988903</td>\n",
       "      <td>1.003178</td>\n",
       "      <td>...</td>\n",
       "      <td>0.994703</td>\n",
       "      <td>1.012354</td>\n",
       "      <td>1.019535</td>\n",
       "      <td>0.994831</td>\n",
       "      <td>1.010573</td>\n",
       "      <td>0.996616</td>\n",
       "      <td>1.004458</td>\n",
       "      <td>1.000119</td>\n",
       "      <td>0.987918</td>\n",
       "      <td>1.004129</td>\n",
       "    </tr>\n",
       "    <tr>\n",
       "      <th>4</th>\n",
       "      <td>0.999116</td>\n",
       "      <td>1.011024</td>\n",
       "      <td>1.014907</td>\n",
       "      <td>0.999660</td>\n",
       "      <td>0.995797</td>\n",
       "      <td>1.005965</td>\n",
       "      <td>1.014252</td>\n",
       "      <td>1.000512</td>\n",
       "      <td>0.993264</td>\n",
       "      <td>1.008229</td>\n",
       "      <td>...</td>\n",
       "      <td>1.000433</td>\n",
       "      <td>1.010098</td>\n",
       "      <td>1.018986</td>\n",
       "      <td>0.994361</td>\n",
       "      <td>1.008992</td>\n",
       "      <td>0.998664</td>\n",
       "      <td>0.995351</td>\n",
       "      <td>0.997471</td>\n",
       "      <td>0.981428</td>\n",
       "      <td>1.014210</td>\n",
       "    </tr>\n",
       "    <tr>\n",
       "      <th>...</th>\n",
       "      <td>...</td>\n",
       "      <td>...</td>\n",
       "      <td>...</td>\n",
       "      <td>...</td>\n",
       "      <td>...</td>\n",
       "      <td>...</td>\n",
       "      <td>...</td>\n",
       "      <td>...</td>\n",
       "      <td>...</td>\n",
       "      <td>...</td>\n",
       "      <td>...</td>\n",
       "      <td>...</td>\n",
       "      <td>...</td>\n",
       "      <td>...</td>\n",
       "      <td>...</td>\n",
       "      <td>...</td>\n",
       "      <td>...</td>\n",
       "      <td>...</td>\n",
       "      <td>...</td>\n",
       "      <td>...</td>\n",
       "      <td>...</td>\n",
       "    </tr>\n",
       "    <tr>\n",
       "      <th>7556</th>\n",
       "      <td>79.388303</td>\n",
       "      <td>61.395852</td>\n",
       "      <td>125.803188</td>\n",
       "      <td>250.872288</td>\n",
       "      <td>100.528029</td>\n",
       "      <td>147.590171</td>\n",
       "      <td>81.778052</td>\n",
       "      <td>83.772901</td>\n",
       "      <td>104.006928</td>\n",
       "      <td>217.617141</td>\n",
       "      <td>...</td>\n",
       "      <td>105.643334</td>\n",
       "      <td>129.648569</td>\n",
       "      <td>77.629278</td>\n",
       "      <td>157.474294</td>\n",
       "      <td>39.707793</td>\n",
       "      <td>218.611146</td>\n",
       "      <td>118.886864</td>\n",
       "      <td>126.008317</td>\n",
       "      <td>152.379867</td>\n",
       "      <td>82.794986</td>\n",
       "    </tr>\n",
       "    <tr>\n",
       "      <th>7557</th>\n",
       "      <td>79.028504</td>\n",
       "      <td>61.460737</td>\n",
       "      <td>124.809786</td>\n",
       "      <td>249.188143</td>\n",
       "      <td>100.678315</td>\n",
       "      <td>147.322455</td>\n",
       "      <td>81.411009</td>\n",
       "      <td>84.275050</td>\n",
       "      <td>103.301125</td>\n",
       "      <td>220.164348</td>\n",
       "      <td>...</td>\n",
       "      <td>105.098978</td>\n",
       "      <td>130.600150</td>\n",
       "      <td>77.754908</td>\n",
       "      <td>157.452012</td>\n",
       "      <td>39.751790</td>\n",
       "      <td>219.898558</td>\n",
       "      <td>119.328990</td>\n",
       "      <td>126.970147</td>\n",
       "      <td>150.824153</td>\n",
       "      <td>82.641674</td>\n",
       "    </tr>\n",
       "    <tr>\n",
       "      <th>7558</th>\n",
       "      <td>79.071050</td>\n",
       "      <td>61.779936</td>\n",
       "      <td>125.020953</td>\n",
       "      <td>248.171641</td>\n",
       "      <td>99.580768</td>\n",
       "      <td>146.620014</td>\n",
       "      <td>82.039716</td>\n",
       "      <td>85.070151</td>\n",
       "      <td>102.373443</td>\n",
       "      <td>220.534106</td>\n",
       "      <td>...</td>\n",
       "      <td>105.086581</td>\n",
       "      <td>130.532788</td>\n",
       "      <td>78.451551</td>\n",
       "      <td>158.035629</td>\n",
       "      <td>40.075180</td>\n",
       "      <td>220.458258</td>\n",
       "      <td>119.992119</td>\n",
       "      <td>127.612984</td>\n",
       "      <td>151.144893</td>\n",
       "      <td>82.673906</td>\n",
       "    </tr>\n",
       "    <tr>\n",
       "      <th>7559</th>\n",
       "      <td>78.982320</td>\n",
       "      <td>61.645949</td>\n",
       "      <td>124.558625</td>\n",
       "      <td>246.455101</td>\n",
       "      <td>99.769571</td>\n",
       "      <td>146.450077</td>\n",
       "      <td>82.376536</td>\n",
       "      <td>86.319256</td>\n",
       "      <td>102.716396</td>\n",
       "      <td>220.010172</td>\n",
       "      <td>...</td>\n",
       "      <td>105.401007</td>\n",
       "      <td>131.285665</td>\n",
       "      <td>78.847498</td>\n",
       "      <td>159.450998</td>\n",
       "      <td>40.277846</td>\n",
       "      <td>220.161189</td>\n",
       "      <td>120.572717</td>\n",
       "      <td>128.617879</td>\n",
       "      <td>151.968592</td>\n",
       "      <td>82.750657</td>\n",
       "    </tr>\n",
       "    <tr>\n",
       "      <th>7560</th>\n",
       "      <td>79.542149</td>\n",
       "      <td>61.845650</td>\n",
       "      <td>125.759211</td>\n",
       "      <td>245.816269</td>\n",
       "      <td>99.210831</td>\n",
       "      <td>147.294786</td>\n",
       "      <td>82.299287</td>\n",
       "      <td>86.326404</td>\n",
       "      <td>102.345785</td>\n",
       "      <td>218.331087</td>\n",
       "      <td>...</td>\n",
       "      <td>105.450876</td>\n",
       "      <td>130.898401</td>\n",
       "      <td>78.632433</td>\n",
       "      <td>159.614949</td>\n",
       "      <td>40.355702</td>\n",
       "      <td>220.559889</td>\n",
       "      <td>121.904289</td>\n",
       "      <td>128.562306</td>\n",
       "      <td>153.129267</td>\n",
       "      <td>82.831801</td>\n",
       "    </tr>\n",
       "  </tbody>\n",
       "</table>\n",
       "<p>7561 rows × 500 columns</p>\n",
       "</div>"
      ],
      "text/plain": [
       "            0          1           2           3           4           5    \\\n",
       "0      1.000000   1.000000    1.000000    1.000000    1.000000    1.000000   \n",
       "1      0.999820   1.008056    1.000654    1.006443    0.995972    0.995993   \n",
       "2      1.002251   1.016415    1.005724    1.006064    0.999696    1.003822   \n",
       "3      1.006216   1.012419    1.014810    0.998159    0.996356    1.000235   \n",
       "4      0.999116   1.011024    1.014907    0.999660    0.995797    1.005965   \n",
       "...         ...        ...         ...         ...         ...         ...   \n",
       "7556  79.388303  61.395852  125.803188  250.872288  100.528029  147.590171   \n",
       "7557  79.028504  61.460737  124.809786  249.188143  100.678315  147.322455   \n",
       "7558  79.071050  61.779936  125.020953  248.171641   99.580768  146.620014   \n",
       "7559  78.982320  61.645949  124.558625  246.455101   99.769571  146.450077   \n",
       "7560  79.542149  61.845650  125.759211  245.816269   99.210831  147.294786   \n",
       "\n",
       "            6          7           8           9    ...         490  \\\n",
       "0      1.000000   1.000000    1.000000    1.000000  ...    1.000000   \n",
       "1      1.002522   1.008661    0.992425    1.005371  ...    0.991960   \n",
       "2      0.998123   0.999359    0.989614    1.011140  ...    0.998439   \n",
       "3      1.007810   1.005172    0.988903    1.003178  ...    0.994703   \n",
       "4      1.014252   1.000512    0.993264    1.008229  ...    1.000433   \n",
       "...         ...        ...         ...         ...  ...         ...   \n",
       "7556  81.778052  83.772901  104.006928  217.617141  ...  105.643334   \n",
       "7557  81.411009  84.275050  103.301125  220.164348  ...  105.098978   \n",
       "7558  82.039716  85.070151  102.373443  220.534106  ...  105.086581   \n",
       "7559  82.376536  86.319256  102.716396  220.010172  ...  105.401007   \n",
       "7560  82.299287  86.326404  102.345785  218.331087  ...  105.450876   \n",
       "\n",
       "             491        492         493        494         495         496  \\\n",
       "0       1.000000   1.000000    1.000000   1.000000    1.000000    1.000000   \n",
       "1       1.005713   0.998992    0.996914   1.003533    0.997148    1.001298   \n",
       "2       1.005275   1.011957    0.996911   1.012208    0.992994    1.003518   \n",
       "3       1.012354   1.019535    0.994831   1.010573    0.996616    1.004458   \n",
       "4       1.010098   1.018986    0.994361   1.008992    0.998664    0.995351   \n",
       "...          ...        ...         ...        ...         ...         ...   \n",
       "7556  129.648569  77.629278  157.474294  39.707793  218.611146  118.886864   \n",
       "7557  130.600150  77.754908  157.452012  39.751790  219.898558  119.328990   \n",
       "7558  130.532788  78.451551  158.035629  40.075180  220.458258  119.992119   \n",
       "7559  131.285665  78.847498  159.450998  40.277846  220.161189  120.572717   \n",
       "7560  130.898401  78.632433  159.614949  40.355702  220.559889  121.904289   \n",
       "\n",
       "             497         498        499  \n",
       "0       1.000000    1.000000   1.000000  \n",
       "1       0.997457    0.992530   0.999586  \n",
       "2       0.997487    0.988736   0.997772  \n",
       "3       1.000119    0.987918   1.004129  \n",
       "4       0.997471    0.981428   1.014210  \n",
       "...          ...         ...        ...  \n",
       "7556  126.008317  152.379867  82.794986  \n",
       "7557  126.970147  150.824153  82.641674  \n",
       "7558  127.612984  151.144893  82.673906  \n",
       "7559  128.617879  151.968592  82.750657  \n",
       "7560  128.562306  153.129267  82.831801  \n",
       "\n",
       "[7561 rows x 500 columns]"
      ]
     },
     "execution_count": 57,
     "metadata": {},
     "output_type": "execute_result"
    }
   ],
   "source": [
    "# Running a Monte Carlo simulation to forecast 30 years cumulative returns\n",
    "MC.calc_cumulative_return()"
   ]
  },
  {
   "cell_type": "code",
   "execution_count": 58,
   "metadata": {},
   "outputs": [
    {
     "data": {
      "image/png": "[encoded data removed]",
      "text/plain": [
       "<Figure size 432x288 with 1 Axes>"
      ]
     },
     "metadata": {
      "needs_background": "light"
     },
     "output_type": "display_data"
    }
   ],
   "source": [
    "# Plot simulation outcomes\n",
    "line_plot = MC.plot_simulation()"
   ]
  },
  {
   "cell_type": "code",
   "execution_count": 59,
   "metadata": {},
   "outputs": [
    {
     "data": {
      "image/png": "[encoded data removed]",
      "text/plain": [
       "<Figure size 432x288 with 1 Axes>"
      ]
     },
     "metadata": {
      "needs_background": "light"
     },
     "output_type": "display_data"
    }
   ],
   "source": [
    "# Plot probability distribution and confidence intervals\n",
    "dist_plot = MC.plot_distribution()"
   ]
  },
  {
   "cell_type": "markdown",
   "metadata": {},
   "source": [
    "### Retirement Analysis"
   ]
  },
  {
   "cell_type": "code",
   "execution_count": 60,
   "metadata": {},
   "outputs": [
    {
     "name": "stdout",
     "output_type": "stream",
     "text": [
      "count           500.000000\n",
      "mean            143.214159\n",
      "std              70.566843\n",
      "min              28.742670\n",
      "25%              95.135056\n",
      "50%             125.668969\n",
      "75%             175.362566\n",
      "max             472.332356\n",
      "95% CI Lower     50.438307\n",
      "95% CI Upper    325.076377\n",
      "Name: 7560, dtype: float64\n"
     ]
    }
   ],
   "source": [
    "# Fetch summary statistics from the Monte Carlo simulation results\n",
    "even_tbl = MC.summarize_cumulative_return()\n",
    "\n",
    "# Print summary statistics\n",
    "print(even_tbl)"
   ]
  },
  {
   "cell_type": "markdown",
   "metadata": {},
   "source": [
    "### Calculate the expected portfolio return at the `95%` lower and upper confidence intervals based on a `$20,000` initial investment."
   ]
  },
  {
   "cell_type": "code",
   "execution_count": 64,
   "metadata": {},
   "outputs": [
    {
     "name": "stdout",
     "output_type": "stream",
     "text": [
      "There is a 95% chance that an initial investment of $20000 in the portfolio\n",
      "over the next 30 years will end within in the range of\n",
      "$1008766.14 and $6501527.53\n"
     ]
    }
   ],
   "source": [
    "# Set initial investment\n",
    "initial_investment = 20000\n",
    "\n",
    "# Use the lower and upper `95%` confidence intervals to calculate the range of the possible outcomes of our $20,000\n",
    "even_ci_lower = round(even_tbl[8]*initial_investment,2)\n",
    "even_ci_upper = round(even_tbl[9]*initial_investment,2)\n",
    "\n",
    "# Print results\n",
    "print(f\"There is a 95% chance that an initial investment of ${initial_investment} in the portfolio\")\n",
    "print (f\"over the next 30 years will end within in the range of\")      \n",
    "print (f\"${even_ci_lower} and ${even_ci_upper}\")  "
   ]
  },
  {
   "cell_type": "code",
   "execution_count": 67,
   "metadata": {},
   "outputs": [],
   "source": [
    "#even_ci_lower"
   ]
  },
  {
   "cell_type": "markdown",
   "metadata": {},
   "source": [
    "### Calculate the expected portfolio return at the `95%` lower and upper confidence intervals based on a `50%` increase in the initial investment."
   ]
  },
  {
   "cell_type": "code",
   "execution_count": 72,
   "metadata": {},
   "outputs": [
    {
     "name": "stdout",
     "output_type": "stream",
     "text": [
      "There is a 95% chance that an initial investment of $30000.0 in the portfolio\n",
      "over the next 30 years will end within in the range of\n",
      "$1513149.22 and $9752291.3\n"
     ]
    }
   ],
   "source": [
    "# Set initial investment\n",
    "initial_investment_new = 20000 * 1.5\n",
    "\n",
    "# Use the lower and upper `95%` confidence intervals to calculate the range of the possible outcomes of our $30,000\n",
    "even_ci_lower_new = round(even_tbl[8]*initial_investment_new,2)\n",
    "even_ci_upper_new = round(even_tbl[9]*initial_investment_new,2)\n",
    "\n",
    "# Print results\n",
    "print(f\"There is a 95% chance that an initial investment of ${initial_investment_new} in the portfolio\")\n",
    "print(f\"over the next 30 years will end within in the range of\")      \n",
    "print(f\"${even_ci_lower_new} and ${even_ci_upper_new}\") "
   ]
  },
  {
   "cell_type": "markdown",
   "metadata": {},
   "source": [
    "## Optional Challenge - Early Retirement\n",
    "\n",
    "\n",
    "### Five Years Retirement Option"
   ]
  },
  {
   "cell_type": "code",
   "execution_count": 73,
   "metadata": {},
   "outputs": [],
   "source": [
    "# Configuring a Monte Carlo simulation to forecast 5 years cumulative returns\n",
    "MC_five = MCSimulation(\n",
    "    portfolio_data = df_stock_data,\n",
    "    weights = [.4,.6],\n",
    "    num_simulation = 500,\n",
    "    num_trading_days = 252*5\n",
    ")"
   ]
  },
  {
   "cell_type": "code",
   "execution_count": 74,
   "metadata": {},
   "outputs": [
    {
     "name": "stdout",
     "output_type": "stream",
     "text": [
      "Running Monte Carlo simulation number 0.\n",
      "Running Monte Carlo simulation number 10.\n",
      "Running Monte Carlo simulation number 20.\n",
      "Running Monte Carlo simulation number 30.\n",
      "Running Monte Carlo simulation number 40.\n",
      "Running Monte Carlo simulation number 50.\n",
      "Running Monte Carlo simulation number 60.\n",
      "Running Monte Carlo simulation number 70.\n",
      "Running Monte Carlo simulation number 80.\n",
      "Running Monte Carlo simulation number 90.\n",
      "Running Monte Carlo simulation number 100.\n"
     ]
    },
    {
     "name": "stderr",
     "output_type": "stream",
     "text": [
      "C:\\Users\\ikili\\Downloads\\monu-virt-fin-11-2021-u-c-master\\Homework\\Week 5\\Starter_Code\\MCForecastTools.py:117: PerformanceWarning: DataFrame is highly fragmented.  This is usually the result of calling `frame.insert` many times, which has poor performance.  Consider joining all columns at once using pd.concat(axis=1) instead.  To get a de-fragmented frame, use `newframe = frame.copy()`\n",
      "  portfolio_cumulative_returns[n] = (1 + sim_df.fillna(0)).cumprod()\n"
     ]
    },
    {
     "name": "stdout",
     "output_type": "stream",
     "text": [
      "Running Monte Carlo simulation number 110.\n",
      "Running Monte Carlo simulation number 120.\n",
      "Running Monte Carlo simulation number 130.\n",
      "Running Monte Carlo simulation number 140.\n",
      "Running Monte Carlo simulation number 150.\n",
      "Running Monte Carlo simulation number 160.\n",
      "Running Monte Carlo simulation number 170.\n",
      "Running Monte Carlo simulation number 180.\n",
      "Running Monte Carlo simulation number 190.\n",
      "Running Monte Carlo simulation number 200.\n",
      "Running Monte Carlo simulation number 210.\n",
      "Running Monte Carlo simulation number 220.\n",
      "Running Monte Carlo simulation number 230.\n",
      "Running Monte Carlo simulation number 240.\n",
      "Running Monte Carlo simulation number 250.\n",
      "Running Monte Carlo simulation number 260.\n",
      "Running Monte Carlo simulation number 270.\n",
      "Running Monte Carlo simulation number 280.\n",
      "Running Monte Carlo simulation number 290.\n",
      "Running Monte Carlo simulation number 300.\n",
      "Running Monte Carlo simulation number 310.\n",
      "Running Monte Carlo simulation number 320.\n",
      "Running Monte Carlo simulation number 330.\n",
      "Running Monte Carlo simulation number 340.\n",
      "Running Monte Carlo simulation number 350.\n",
      "Running Monte Carlo simulation number 360.\n",
      "Running Monte Carlo simulation number 370.\n",
      "Running Monte Carlo simulation number 380.\n",
      "Running Monte Carlo simulation number 390.\n",
      "Running Monte Carlo simulation number 400.\n",
      "Running Monte Carlo simulation number 410.\n",
      "Running Monte Carlo simulation number 420.\n",
      "Running Monte Carlo simulation number 430.\n",
      "Running Monte Carlo simulation number 440.\n",
      "Running Monte Carlo simulation number 450.\n",
      "Running Monte Carlo simulation number 460.\n",
      "Running Monte Carlo simulation number 470.\n",
      "Running Monte Carlo simulation number 480.\n",
      "Running Monte Carlo simulation number 490.\n"
     ]
    },
    {
     "data": {
      "text/html": [
       "<div>\n",
       "<style scoped>\n",
       "    .dataframe tbody tr th:only-of-type {\n",
       "        vertical-align: middle;\n",
       "    }\n",
       "\n",
       "    .dataframe tbody tr th {\n",
       "        vertical-align: top;\n",
       "    }\n",
       "\n",
       "    .dataframe thead th {\n",
       "        text-align: right;\n",
       "    }\n",
       "</style>\n",
       "<table border=\"1\" class=\"dataframe\">\n",
       "  <thead>\n",
       "    <tr style=\"text-align: right;\">\n",
       "      <th></th>\n",
       "      <th>0</th>\n",
       "      <th>1</th>\n",
       "      <th>2</th>\n",
       "      <th>3</th>\n",
       "      <th>4</th>\n",
       "      <th>5</th>\n",
       "      <th>6</th>\n",
       "      <th>7</th>\n",
       "      <th>8</th>\n",
       "      <th>9</th>\n",
       "      <th>...</th>\n",
       "      <th>490</th>\n",
       "      <th>491</th>\n",
       "      <th>492</th>\n",
       "      <th>493</th>\n",
       "      <th>494</th>\n",
       "      <th>495</th>\n",
       "      <th>496</th>\n",
       "      <th>497</th>\n",
       "      <th>498</th>\n",
       "      <th>499</th>\n",
       "    </tr>\n",
       "  </thead>\n",
       "  <tbody>\n",
       "    <tr>\n",
       "      <th>0</th>\n",
       "      <td>1.000000</td>\n",
       "      <td>1.000000</td>\n",
       "      <td>1.000000</td>\n",
       "      <td>1.000000</td>\n",
       "      <td>1.000000</td>\n",
       "      <td>1.000000</td>\n",
       "      <td>1.000000</td>\n",
       "      <td>1.000000</td>\n",
       "      <td>1.000000</td>\n",
       "      <td>1.000000</td>\n",
       "      <td>...</td>\n",
       "      <td>1.000000</td>\n",
       "      <td>1.000000</td>\n",
       "      <td>1.000000</td>\n",
       "      <td>1.000000</td>\n",
       "      <td>1.000000</td>\n",
       "      <td>1.000000</td>\n",
       "      <td>1.000000</td>\n",
       "      <td>1.000000</td>\n",
       "      <td>1.000000</td>\n",
       "      <td>1.000000</td>\n",
       "    </tr>\n",
       "    <tr>\n",
       "      <th>1</th>\n",
       "      <td>1.007655</td>\n",
       "      <td>1.002254</td>\n",
       "      <td>1.003023</td>\n",
       "      <td>0.999821</td>\n",
       "      <td>1.001034</td>\n",
       "      <td>1.008418</td>\n",
       "      <td>1.005868</td>\n",
       "      <td>0.994649</td>\n",
       "      <td>1.007765</td>\n",
       "      <td>0.998564</td>\n",
       "      <td>...</td>\n",
       "      <td>1.000693</td>\n",
       "      <td>0.999227</td>\n",
       "      <td>0.997709</td>\n",
       "      <td>1.004354</td>\n",
       "      <td>1.003138</td>\n",
       "      <td>1.007789</td>\n",
       "      <td>1.005920</td>\n",
       "      <td>0.996358</td>\n",
       "      <td>1.003782</td>\n",
       "      <td>0.996165</td>\n",
       "    </tr>\n",
       "    <tr>\n",
       "      <th>2</th>\n",
       "      <td>1.008973</td>\n",
       "      <td>0.999120</td>\n",
       "      <td>1.001343</td>\n",
       "      <td>1.001576</td>\n",
       "      <td>1.003065</td>\n",
       "      <td>1.000630</td>\n",
       "      <td>1.005076</td>\n",
       "      <td>0.996589</td>\n",
       "      <td>1.005221</td>\n",
       "      <td>0.997317</td>\n",
       "      <td>...</td>\n",
       "      <td>0.993305</td>\n",
       "      <td>0.999289</td>\n",
       "      <td>0.985997</td>\n",
       "      <td>1.004509</td>\n",
       "      <td>1.007077</td>\n",
       "      <td>1.018262</td>\n",
       "      <td>1.018106</td>\n",
       "      <td>0.995988</td>\n",
       "      <td>1.003503</td>\n",
       "      <td>0.993201</td>\n",
       "    </tr>\n",
       "    <tr>\n",
       "      <th>3</th>\n",
       "      <td>1.015387</td>\n",
       "      <td>1.001965</td>\n",
       "      <td>0.997925</td>\n",
       "      <td>1.008760</td>\n",
       "      <td>1.005286</td>\n",
       "      <td>1.008993</td>\n",
       "      <td>1.014155</td>\n",
       "      <td>0.995547</td>\n",
       "      <td>1.008251</td>\n",
       "      <td>0.996302</td>\n",
       "      <td>...</td>\n",
       "      <td>0.992150</td>\n",
       "      <td>1.005466</td>\n",
       "      <td>0.995074</td>\n",
       "      <td>0.998823</td>\n",
       "      <td>1.007257</td>\n",
       "      <td>1.013326</td>\n",
       "      <td>1.017931</td>\n",
       "      <td>1.010203</td>\n",
       "      <td>0.999139</td>\n",
       "      <td>0.981233</td>\n",
       "    </tr>\n",
       "    <tr>\n",
       "      <th>4</th>\n",
       "      <td>1.009566</td>\n",
       "      <td>0.996443</td>\n",
       "      <td>0.997914</td>\n",
       "      <td>1.008496</td>\n",
       "      <td>1.000574</td>\n",
       "      <td>1.010495</td>\n",
       "      <td>1.014134</td>\n",
       "      <td>0.995672</td>\n",
       "      <td>1.014236</td>\n",
       "      <td>0.991028</td>\n",
       "      <td>...</td>\n",
       "      <td>1.007939</td>\n",
       "      <td>1.007139</td>\n",
       "      <td>1.003659</td>\n",
       "      <td>1.009019</td>\n",
       "      <td>0.992512</td>\n",
       "      <td>1.012596</td>\n",
       "      <td>1.017527</td>\n",
       "      <td>1.007368</td>\n",
       "      <td>0.993807</td>\n",
       "      <td>0.992054</td>\n",
       "    </tr>\n",
       "    <tr>\n",
       "      <th>...</th>\n",
       "      <td>...</td>\n",
       "      <td>...</td>\n",
       "      <td>...</td>\n",
       "      <td>...</td>\n",
       "      <td>...</td>\n",
       "      <td>...</td>\n",
       "      <td>...</td>\n",
       "      <td>...</td>\n",
       "      <td>...</td>\n",
       "      <td>...</td>\n",
       "      <td>...</td>\n",
       "      <td>...</td>\n",
       "      <td>...</td>\n",
       "      <td>...</td>\n",
       "      <td>...</td>\n",
       "      <td>...</td>\n",
       "      <td>...</td>\n",
       "      <td>...</td>\n",
       "      <td>...</td>\n",
       "      <td>...</td>\n",
       "      <td>...</td>\n",
       "    </tr>\n",
       "    <tr>\n",
       "      <th>1256</th>\n",
       "      <td>2.321430</td>\n",
       "      <td>2.998958</td>\n",
       "      <td>1.923539</td>\n",
       "      <td>1.839230</td>\n",
       "      <td>1.736035</td>\n",
       "      <td>2.361788</td>\n",
       "      <td>2.274545</td>\n",
       "      <td>2.170647</td>\n",
       "      <td>2.467558</td>\n",
       "      <td>2.070035</td>\n",
       "      <td>...</td>\n",
       "      <td>2.210000</td>\n",
       "      <td>1.998658</td>\n",
       "      <td>2.229431</td>\n",
       "      <td>1.851922</td>\n",
       "      <td>1.902630</td>\n",
       "      <td>2.243945</td>\n",
       "      <td>2.007639</td>\n",
       "      <td>1.850544</td>\n",
       "      <td>2.109413</td>\n",
       "      <td>2.607828</td>\n",
       "    </tr>\n",
       "    <tr>\n",
       "      <th>1257</th>\n",
       "      <td>2.313626</td>\n",
       "      <td>2.990029</td>\n",
       "      <td>1.935603</td>\n",
       "      <td>1.835744</td>\n",
       "      <td>1.737821</td>\n",
       "      <td>2.366137</td>\n",
       "      <td>2.274059</td>\n",
       "      <td>2.193233</td>\n",
       "      <td>2.458072</td>\n",
       "      <td>2.058214</td>\n",
       "      <td>...</td>\n",
       "      <td>2.199442</td>\n",
       "      <td>2.004198</td>\n",
       "      <td>2.225701</td>\n",
       "      <td>1.847863</td>\n",
       "      <td>1.894916</td>\n",
       "      <td>2.246585</td>\n",
       "      <td>2.002959</td>\n",
       "      <td>1.845101</td>\n",
       "      <td>2.109784</td>\n",
       "      <td>2.610808</td>\n",
       "    </tr>\n",
       "    <tr>\n",
       "      <th>1258</th>\n",
       "      <td>2.306986</td>\n",
       "      <td>2.985353</td>\n",
       "      <td>1.942789</td>\n",
       "      <td>1.827245</td>\n",
       "      <td>1.732004</td>\n",
       "      <td>2.377697</td>\n",
       "      <td>2.275991</td>\n",
       "      <td>2.208668</td>\n",
       "      <td>2.444437</td>\n",
       "      <td>2.067910</td>\n",
       "      <td>...</td>\n",
       "      <td>2.194643</td>\n",
       "      <td>2.022928</td>\n",
       "      <td>2.234859</td>\n",
       "      <td>1.844749</td>\n",
       "      <td>1.904523</td>\n",
       "      <td>2.251227</td>\n",
       "      <td>2.001302</td>\n",
       "      <td>1.836539</td>\n",
       "      <td>2.096679</td>\n",
       "      <td>2.608849</td>\n",
       "    </tr>\n",
       "    <tr>\n",
       "      <th>1259</th>\n",
       "      <td>2.306284</td>\n",
       "      <td>2.974757</td>\n",
       "      <td>1.970871</td>\n",
       "      <td>1.842045</td>\n",
       "      <td>1.729529</td>\n",
       "      <td>2.372449</td>\n",
       "      <td>2.277104</td>\n",
       "      <td>2.199859</td>\n",
       "      <td>2.426839</td>\n",
       "      <td>2.077518</td>\n",
       "      <td>...</td>\n",
       "      <td>2.179501</td>\n",
       "      <td>2.005507</td>\n",
       "      <td>2.232099</td>\n",
       "      <td>1.839037</td>\n",
       "      <td>1.897987</td>\n",
       "      <td>2.257253</td>\n",
       "      <td>1.996265</td>\n",
       "      <td>1.845006</td>\n",
       "      <td>2.104192</td>\n",
       "      <td>2.601343</td>\n",
       "    </tr>\n",
       "    <tr>\n",
       "      <th>1260</th>\n",
       "      <td>2.336197</td>\n",
       "      <td>2.948669</td>\n",
       "      <td>1.985525</td>\n",
       "      <td>1.853016</td>\n",
       "      <td>1.743133</td>\n",
       "      <td>2.390418</td>\n",
       "      <td>2.305045</td>\n",
       "      <td>2.204573</td>\n",
       "      <td>2.433386</td>\n",
       "      <td>2.058116</td>\n",
       "      <td>...</td>\n",
       "      <td>2.194748</td>\n",
       "      <td>2.005049</td>\n",
       "      <td>2.217961</td>\n",
       "      <td>1.856873</td>\n",
       "      <td>1.907460</td>\n",
       "      <td>2.266023</td>\n",
       "      <td>2.009662</td>\n",
       "      <td>1.842832</td>\n",
       "      <td>2.093797</td>\n",
       "      <td>2.604743</td>\n",
       "    </tr>\n",
       "  </tbody>\n",
       "</table>\n",
       "<p>1261 rows × 500 columns</p>\n",
       "</div>"
      ],
      "text/plain": [
       "           0         1         2         3         4         5         6    \\\n",
       "0     1.000000  1.000000  1.000000  1.000000  1.000000  1.000000  1.000000   \n",
       "1     1.007655  1.002254  1.003023  0.999821  1.001034  1.008418  1.005868   \n",
       "2     1.008973  0.999120  1.001343  1.001576  1.003065  1.000630  1.005076   \n",
       "3     1.015387  1.001965  0.997925  1.008760  1.005286  1.008993  1.014155   \n",
       "4     1.009566  0.996443  0.997914  1.008496  1.000574  1.010495  1.014134   \n",
       "...        ...       ...       ...       ...       ...       ...       ...   \n",
       "1256  2.321430  2.998958  1.923539  1.839230  1.736035  2.361788  2.274545   \n",
       "1257  2.313626  2.990029  1.935603  1.835744  1.737821  2.366137  2.274059   \n",
       "1258  2.306986  2.985353  1.942789  1.827245  1.732004  2.377697  2.275991   \n",
       "1259  2.306284  2.974757  1.970871  1.842045  1.729529  2.372449  2.277104   \n",
       "1260  2.336197  2.948669  1.985525  1.853016  1.743133  2.390418  2.305045   \n",
       "\n",
       "           7         8         9    ...       490       491       492  \\\n",
       "0     1.000000  1.000000  1.000000  ...  1.000000  1.000000  1.000000   \n",
       "1     0.994649  1.007765  0.998564  ...  1.000693  0.999227  0.997709   \n",
       "2     0.996589  1.005221  0.997317  ...  0.993305  0.999289  0.985997   \n",
       "3     0.995547  1.008251  0.996302  ...  0.992150  1.005466  0.995074   \n",
       "4     0.995672  1.014236  0.991028  ...  1.007939  1.007139  1.003659   \n",
       "...        ...       ...       ...  ...       ...       ...       ...   \n",
       "1256  2.170647  2.467558  2.070035  ...  2.210000  1.998658  2.229431   \n",
       "1257  2.193233  2.458072  2.058214  ...  2.199442  2.004198  2.225701   \n",
       "1258  2.208668  2.444437  2.067910  ...  2.194643  2.022928  2.234859   \n",
       "1259  2.199859  2.426839  2.077518  ...  2.179501  2.005507  2.232099   \n",
       "1260  2.204573  2.433386  2.058116  ...  2.194748  2.005049  2.217961   \n",
       "\n",
       "           493       494       495       496       497       498       499  \n",
       "0     1.000000  1.000000  1.000000  1.000000  1.000000  1.000000  1.000000  \n",
       "1     1.004354  1.003138  1.007789  1.005920  0.996358  1.003782  0.996165  \n",
       "2     1.004509  1.007077  1.018262  1.018106  0.995988  1.003503  0.993201  \n",
       "3     0.998823  1.007257  1.013326  1.017931  1.010203  0.999139  0.981233  \n",
       "4     1.009019  0.992512  1.012596  1.017527  1.007368  0.993807  0.992054  \n",
       "...        ...       ...       ...       ...       ...       ...       ...  \n",
       "1256  1.851922  1.902630  2.243945  2.007639  1.850544  2.109413  2.607828  \n",
       "1257  1.847863  1.894916  2.246585  2.002959  1.845101  2.109784  2.610808  \n",
       "1258  1.844749  1.904523  2.251227  2.001302  1.836539  2.096679  2.608849  \n",
       "1259  1.839037  1.897987  2.257253  1.996265  1.845006  2.104192  2.601343  \n",
       "1260  1.856873  1.907460  2.266023  2.009662  1.842832  2.093797  2.604743  \n",
       "\n",
       "[1261 rows x 500 columns]"
      ]
     },
     "execution_count": 74,
     "metadata": {},
     "output_type": "execute_result"
    }
   ],
   "source": [
    "# Running a Monte Carlo simulation to forecast 5 years cumulative returns\n",
    "MC_five.calc_cumulative_return()"
   ]
  },
  {
   "cell_type": "code",
   "execution_count": 75,
   "metadata": {},
   "outputs": [
    {
     "data": {
      "image/png": "[encoded data removed]",
      "text/plain": [
       "<Figure size 432x288 with 1 Axes>"
      ]
     },
     "metadata": {
      "needs_background": "light"
     },
     "output_type": "display_data"
    }
   ],
   "source": [
    "# Plot simulation outcomes\n",
    "line_plot = MC_five.plot_simulation()"
   ]
  },
  {
   "cell_type": "code",
   "execution_count": 76,
   "metadata": {},
   "outputs": [
    {
     "data": {
      "image/png": "[encoded data removed]",
      "text/plain": [
       "<Figure size 432x288 with 1 Axes>"
      ]
     },
     "metadata": {
      "needs_background": "light"
     },
     "output_type": "display_data"
    }
   ],
   "source": [
    "# Plot probability distribution and confidence intervals\n",
    "dist_plot = MC_five.plot_distribution()"
   ]
  },
  {
   "cell_type": "code",
   "execution_count": 77,
   "metadata": {},
   "outputs": [
    {
     "name": "stdout",
     "output_type": "stream",
     "text": [
      "count           500.000000\n",
      "mean              2.287688\n",
      "std               0.423513\n",
      "min               1.374648\n",
      "25%               1.994265\n",
      "50%               2.241071\n",
      "75%               2.539300\n",
      "max               3.774292\n",
      "95% CI Lower      1.595797\n",
      "95% CI Upper      3.270921\n",
      "Name: 1260, dtype: float64\n"
     ]
    }
   ],
   "source": [
    "# Fetch summary statistics from the Monte Carlo simulation results\n",
    "even_tbl_five= MC_five.summarize_cumulative_return()\n",
    "\n",
    "\n",
    "# Print summary statistics\n",
    "print(even_tbl_five)"
   ]
  },
  {
   "cell_type": "code",
   "execution_count": 78,
   "metadata": {},
   "outputs": [
    {
     "name": "stdout",
     "output_type": "stream",
     "text": [
      "There is a 95% chance that an initial investment of $100000 in the portfolio\n",
      "over the next 5 years will end within in the range of\n",
      "$159579.68 and $327092.12\n"
     ]
    }
   ],
   "source": [
    "# Set initial investment\n",
    "initial_investment_high = 100000\n",
    "\n",
    "# Use the lower and upper `95%` confidence intervals to calculate the range of the possible outcomes if the initial investment is $100,000\n",
    "even_ci_lower_five = round(even_tbl_five[8]*initial_investment_high,2)\n",
    "even_ci_upper_five = round(even_tbl_five[9]*initial_investment_high,2)\n",
    "\n",
    "\n",
    "# Print results\n",
    "print(f\"There is a 95% chance that an initial investment of ${initial_investment_high} in the portfolio\")\n",
    "print (f\"over the next 5 years will end within in the range of\")      \n",
    "print (f\"${even_ci_lower_five} and ${even_ci_upper_five}\")   "
   ]
  },
  {
   "cell_type": "markdown",
   "metadata": {},
   "source": [
    "### Ten Years Retirement Option"
   ]
  },
  {
   "cell_type": "code",
   "execution_count": 79,
   "metadata": {},
   "outputs": [],
   "source": [
    "# Configuring a Monte Carlo simulation to forecast 10 years cumulative returns\n",
    "MC_ten = MCSimulation(\n",
    "    portfolio_data = df_stock_data,\n",
    "    weights = [.4,.6],\n",
    "    num_simulation = 500,\n",
    "    num_trading_days = 252*10\n",
    ")"
   ]
  },
  {
   "cell_type": "code",
   "execution_count": 80,
   "metadata": {},
   "outputs": [
    {
     "name": "stdout",
     "output_type": "stream",
     "text": [
      "Running Monte Carlo simulation number 0.\n",
      "Running Monte Carlo simulation number 10.\n",
      "Running Monte Carlo simulation number 20.\n",
      "Running Monte Carlo simulation number 30.\n",
      "Running Monte Carlo simulation number 40.\n",
      "Running Monte Carlo simulation number 50.\n",
      "Running Monte Carlo simulation number 60.\n",
      "Running Monte Carlo simulation number 70.\n",
      "Running Monte Carlo simulation number 80.\n",
      "Running Monte Carlo simulation number 90.\n",
      "Running Monte Carlo simulation number 100.\n"
     ]
    },
    {
     "name": "stderr",
     "output_type": "stream",
     "text": [
      "C:\\Users\\ikili\\Downloads\\monu-virt-fin-11-2021-u-c-master\\Homework\\Week 5\\Starter_Code\\MCForecastTools.py:117: PerformanceWarning: DataFrame is highly fragmented.  This is usually the result of calling `frame.insert` many times, which has poor performance.  Consider joining all columns at once using pd.concat(axis=1) instead.  To get a de-fragmented frame, use `newframe = frame.copy()`\n",
      "  portfolio_cumulative_returns[n] = (1 + sim_df.fillna(0)).cumprod()\n"
     ]
    },
    {
     "name": "stdout",
     "output_type": "stream",
     "text": [
      "Running Monte Carlo simulation number 110.\n",
      "Running Monte Carlo simulation number 120.\n",
      "Running Monte Carlo simulation number 130.\n",
      "Running Monte Carlo simulation number 140.\n",
      "Running Monte Carlo simulation number 150.\n",
      "Running Monte Carlo simulation number 160.\n",
      "Running Monte Carlo simulation number 170.\n",
      "Running Monte Carlo simulation number 180.\n",
      "Running Monte Carlo simulation number 190.\n",
      "Running Monte Carlo simulation number 200.\n",
      "Running Monte Carlo simulation number 210.\n",
      "Running Monte Carlo simulation number 220.\n",
      "Running Monte Carlo simulation number 230.\n",
      "Running Monte Carlo simulation number 240.\n",
      "Running Monte Carlo simulation number 250.\n",
      "Running Monte Carlo simulation number 260.\n",
      "Running Monte Carlo simulation number 270.\n",
      "Running Monte Carlo simulation number 280.\n",
      "Running Monte Carlo simulation number 290.\n",
      "Running Monte Carlo simulation number 300.\n",
      "Running Monte Carlo simulation number 310.\n",
      "Running Monte Carlo simulation number 320.\n",
      "Running Monte Carlo simulation number 330.\n",
      "Running Monte Carlo simulation number 340.\n",
      "Running Monte Carlo simulation number 350.\n",
      "Running Monte Carlo simulation number 360.\n",
      "Running Monte Carlo simulation number 370.\n",
      "Running Monte Carlo simulation number 380.\n",
      "Running Monte Carlo simulation number 390.\n",
      "Running Monte Carlo simulation number 400.\n",
      "Running Monte Carlo simulation number 410.\n",
      "Running Monte Carlo simulation number 420.\n",
      "Running Monte Carlo simulation number 430.\n",
      "Running Monte Carlo simulation number 440.\n",
      "Running Monte Carlo simulation number 450.\n",
      "Running Monte Carlo simulation number 460.\n",
      "Running Monte Carlo simulation number 470.\n",
      "Running Monte Carlo simulation number 480.\n",
      "Running Monte Carlo simulation number 490.\n"
     ]
    },
    {
     "data": {
      "text/html": [
       "<div>\n",
       "<style scoped>\n",
       "    .dataframe tbody tr th:only-of-type {\n",
       "        vertical-align: middle;\n",
       "    }\n",
       "\n",
       "    .dataframe tbody tr th {\n",
       "        vertical-align: top;\n",
       "    }\n",
       "\n",
       "    .dataframe thead th {\n",
       "        text-align: right;\n",
       "    }\n",
       "</style>\n",
       "<table border=\"1\" class=\"dataframe\">\n",
       "  <thead>\n",
       "    <tr style=\"text-align: right;\">\n",
       "      <th></th>\n",
       "      <th>0</th>\n",
       "      <th>1</th>\n",
       "      <th>2</th>\n",
       "      <th>3</th>\n",
       "      <th>4</th>\n",
       "      <th>5</th>\n",
       "      <th>6</th>\n",
       "      <th>7</th>\n",
       "      <th>8</th>\n",
       "      <th>9</th>\n",
       "      <th>...</th>\n",
       "      <th>490</th>\n",
       "      <th>491</th>\n",
       "      <th>492</th>\n",
       "      <th>493</th>\n",
       "      <th>494</th>\n",
       "      <th>495</th>\n",
       "      <th>496</th>\n",
       "      <th>497</th>\n",
       "      <th>498</th>\n",
       "      <th>499</th>\n",
       "    </tr>\n",
       "  </thead>\n",
       "  <tbody>\n",
       "    <tr>\n",
       "      <th>0</th>\n",
       "      <td>1.000000</td>\n",
       "      <td>1.000000</td>\n",
       "      <td>1.000000</td>\n",
       "      <td>1.000000</td>\n",
       "      <td>1.000000</td>\n",
       "      <td>1.000000</td>\n",
       "      <td>1.000000</td>\n",
       "      <td>1.000000</td>\n",
       "      <td>1.000000</td>\n",
       "      <td>1.000000</td>\n",
       "      <td>...</td>\n",
       "      <td>1.000000</td>\n",
       "      <td>1.000000</td>\n",
       "      <td>1.000000</td>\n",
       "      <td>1.000000</td>\n",
       "      <td>1.000000</td>\n",
       "      <td>1.000000</td>\n",
       "      <td>1.000000</td>\n",
       "      <td>1.000000</td>\n",
       "      <td>1.000000</td>\n",
       "      <td>1.000000</td>\n",
       "    </tr>\n",
       "    <tr>\n",
       "      <th>1</th>\n",
       "      <td>1.002483</td>\n",
       "      <td>1.004215</td>\n",
       "      <td>0.991609</td>\n",
       "      <td>1.000946</td>\n",
       "      <td>1.000357</td>\n",
       "      <td>0.995781</td>\n",
       "      <td>1.004160</td>\n",
       "      <td>1.006286</td>\n",
       "      <td>0.994853</td>\n",
       "      <td>0.996296</td>\n",
       "      <td>...</td>\n",
       "      <td>0.999700</td>\n",
       "      <td>1.003001</td>\n",
       "      <td>0.999303</td>\n",
       "      <td>0.992687</td>\n",
       "      <td>0.998332</td>\n",
       "      <td>0.995936</td>\n",
       "      <td>1.001685</td>\n",
       "      <td>1.001130</td>\n",
       "      <td>0.998792</td>\n",
       "      <td>0.996399</td>\n",
       "    </tr>\n",
       "    <tr>\n",
       "      <th>2</th>\n",
       "      <td>0.998072</td>\n",
       "      <td>1.009386</td>\n",
       "      <td>0.983889</td>\n",
       "      <td>1.004623</td>\n",
       "      <td>1.002195</td>\n",
       "      <td>0.992333</td>\n",
       "      <td>1.003528</td>\n",
       "      <td>1.015807</td>\n",
       "      <td>0.997772</td>\n",
       "      <td>0.995982</td>\n",
       "      <td>...</td>\n",
       "      <td>1.005640</td>\n",
       "      <td>1.008093</td>\n",
       "      <td>1.001428</td>\n",
       "      <td>0.989535</td>\n",
       "      <td>1.009468</td>\n",
       "      <td>0.996351</td>\n",
       "      <td>0.994408</td>\n",
       "      <td>0.989435</td>\n",
       "      <td>0.998593</td>\n",
       "      <td>0.993157</td>\n",
       "    </tr>\n",
       "    <tr>\n",
       "      <th>3</th>\n",
       "      <td>0.996295</td>\n",
       "      <td>1.000723</td>\n",
       "      <td>0.978308</td>\n",
       "      <td>1.001078</td>\n",
       "      <td>1.003243</td>\n",
       "      <td>0.994032</td>\n",
       "      <td>1.006763</td>\n",
       "      <td>1.009834</td>\n",
       "      <td>0.998855</td>\n",
       "      <td>1.004501</td>\n",
       "      <td>...</td>\n",
       "      <td>1.011185</td>\n",
       "      <td>1.000158</td>\n",
       "      <td>0.997227</td>\n",
       "      <td>0.996643</td>\n",
       "      <td>1.003703</td>\n",
       "      <td>0.987580</td>\n",
       "      <td>1.008098</td>\n",
       "      <td>0.993742</td>\n",
       "      <td>0.994351</td>\n",
       "      <td>0.984087</td>\n",
       "    </tr>\n",
       "    <tr>\n",
       "      <th>4</th>\n",
       "      <td>1.001360</td>\n",
       "      <td>1.005098</td>\n",
       "      <td>0.978372</td>\n",
       "      <td>0.996339</td>\n",
       "      <td>0.999799</td>\n",
       "      <td>0.991791</td>\n",
       "      <td>0.995768</td>\n",
       "      <td>1.012022</td>\n",
       "      <td>1.007360</td>\n",
       "      <td>1.013430</td>\n",
       "      <td>...</td>\n",
       "      <td>1.008447</td>\n",
       "      <td>1.008132</td>\n",
       "      <td>0.999344</td>\n",
       "      <td>0.991123</td>\n",
       "      <td>0.999001</td>\n",
       "      <td>0.978445</td>\n",
       "      <td>1.004515</td>\n",
       "      <td>0.999571</td>\n",
       "      <td>0.999840</td>\n",
       "      <td>0.984477</td>\n",
       "    </tr>\n",
       "    <tr>\n",
       "      <th>...</th>\n",
       "      <td>...</td>\n",
       "      <td>...</td>\n",
       "      <td>...</td>\n",
       "      <td>...</td>\n",
       "      <td>...</td>\n",
       "      <td>...</td>\n",
       "      <td>...</td>\n",
       "      <td>...</td>\n",
       "      <td>...</td>\n",
       "      <td>...</td>\n",
       "      <td>...</td>\n",
       "      <td>...</td>\n",
       "      <td>...</td>\n",
       "      <td>...</td>\n",
       "      <td>...</td>\n",
       "      <td>...</td>\n",
       "      <td>...</td>\n",
       "      <td>...</td>\n",
       "      <td>...</td>\n",
       "      <td>...</td>\n",
       "      <td>...</td>\n",
       "    </tr>\n",
       "    <tr>\n",
       "      <th>2516</th>\n",
       "      <td>7.772053</td>\n",
       "      <td>5.997738</td>\n",
       "      <td>3.706248</td>\n",
       "      <td>2.212782</td>\n",
       "      <td>4.771608</td>\n",
       "      <td>4.335682</td>\n",
       "      <td>5.535452</td>\n",
       "      <td>6.386886</td>\n",
       "      <td>7.144086</td>\n",
       "      <td>4.499043</td>\n",
       "      <td>...</td>\n",
       "      <td>4.425490</td>\n",
       "      <td>4.611605</td>\n",
       "      <td>4.451116</td>\n",
       "      <td>4.537915</td>\n",
       "      <td>4.699909</td>\n",
       "      <td>3.688812</td>\n",
       "      <td>4.465094</td>\n",
       "      <td>4.096441</td>\n",
       "      <td>6.120857</td>\n",
       "      <td>5.941392</td>\n",
       "    </tr>\n",
       "    <tr>\n",
       "      <th>2517</th>\n",
       "      <td>7.795858</td>\n",
       "      <td>6.014654</td>\n",
       "      <td>3.727320</td>\n",
       "      <td>2.206826</td>\n",
       "      <td>4.746103</td>\n",
       "      <td>4.325667</td>\n",
       "      <td>5.516555</td>\n",
       "      <td>6.366990</td>\n",
       "      <td>7.153875</td>\n",
       "      <td>4.517255</td>\n",
       "      <td>...</td>\n",
       "      <td>4.419634</td>\n",
       "      <td>4.626710</td>\n",
       "      <td>4.460366</td>\n",
       "      <td>4.533437</td>\n",
       "      <td>4.671250</td>\n",
       "      <td>3.697402</td>\n",
       "      <td>4.412663</td>\n",
       "      <td>4.100131</td>\n",
       "      <td>6.151249</td>\n",
       "      <td>5.946990</td>\n",
       "    </tr>\n",
       "    <tr>\n",
       "      <th>2518</th>\n",
       "      <td>7.797854</td>\n",
       "      <td>6.029062</td>\n",
       "      <td>3.744768</td>\n",
       "      <td>2.222207</td>\n",
       "      <td>4.728367</td>\n",
       "      <td>4.325283</td>\n",
       "      <td>5.520753</td>\n",
       "      <td>6.388668</td>\n",
       "      <td>7.198015</td>\n",
       "      <td>4.466976</td>\n",
       "      <td>...</td>\n",
       "      <td>4.426687</td>\n",
       "      <td>4.644348</td>\n",
       "      <td>4.524113</td>\n",
       "      <td>4.532432</td>\n",
       "      <td>4.667968</td>\n",
       "      <td>3.691806</td>\n",
       "      <td>4.398858</td>\n",
       "      <td>4.138338</td>\n",
       "      <td>6.204831</td>\n",
       "      <td>6.011851</td>\n",
       "    </tr>\n",
       "    <tr>\n",
       "      <th>2519</th>\n",
       "      <td>7.830010</td>\n",
       "      <td>6.044645</td>\n",
       "      <td>3.717363</td>\n",
       "      <td>2.220815</td>\n",
       "      <td>4.681151</td>\n",
       "      <td>4.309760</td>\n",
       "      <td>5.552739</td>\n",
       "      <td>6.380601</td>\n",
       "      <td>7.198654</td>\n",
       "      <td>4.513576</td>\n",
       "      <td>...</td>\n",
       "      <td>4.461492</td>\n",
       "      <td>4.627660</td>\n",
       "      <td>4.538473</td>\n",
       "      <td>4.507107</td>\n",
       "      <td>4.670338</td>\n",
       "      <td>3.693369</td>\n",
       "      <td>4.415085</td>\n",
       "      <td>4.115521</td>\n",
       "      <td>6.223571</td>\n",
       "      <td>6.035544</td>\n",
       "    </tr>\n",
       "    <tr>\n",
       "      <th>2520</th>\n",
       "      <td>7.805112</td>\n",
       "      <td>6.047289</td>\n",
       "      <td>3.694161</td>\n",
       "      <td>2.225287</td>\n",
       "      <td>4.700551</td>\n",
       "      <td>4.318307</td>\n",
       "      <td>5.523698</td>\n",
       "      <td>6.398850</td>\n",
       "      <td>7.180219</td>\n",
       "      <td>4.509228</td>\n",
       "      <td>...</td>\n",
       "      <td>4.470932</td>\n",
       "      <td>4.644856</td>\n",
       "      <td>4.554166</td>\n",
       "      <td>4.516226</td>\n",
       "      <td>4.652016</td>\n",
       "      <td>3.677524</td>\n",
       "      <td>4.435662</td>\n",
       "      <td>4.114975</td>\n",
       "      <td>6.186907</td>\n",
       "      <td>6.060365</td>\n",
       "    </tr>\n",
       "  </tbody>\n",
       "</table>\n",
       "<p>2521 rows × 500 columns</p>\n",
       "</div>"
      ],
      "text/plain": [
       "           0         1         2         3         4         5         6    \\\n",
       "0     1.000000  1.000000  1.000000  1.000000  1.000000  1.000000  1.000000   \n",
       "1     1.002483  1.004215  0.991609  1.000946  1.000357  0.995781  1.004160   \n",
       "2     0.998072  1.009386  0.983889  1.004623  1.002195  0.992333  1.003528   \n",
       "3     0.996295  1.000723  0.978308  1.001078  1.003243  0.994032  1.006763   \n",
       "4     1.001360  1.005098  0.978372  0.996339  0.999799  0.991791  0.995768   \n",
       "...        ...       ...       ...       ...       ...       ...       ...   \n",
       "2516  7.772053  5.997738  3.706248  2.212782  4.771608  4.335682  5.535452   \n",
       "2517  7.795858  6.014654  3.727320  2.206826  4.746103  4.325667  5.516555   \n",
       "2518  7.797854  6.029062  3.744768  2.222207  4.728367  4.325283  5.520753   \n",
       "2519  7.830010  6.044645  3.717363  2.220815  4.681151  4.309760  5.552739   \n",
       "2520  7.805112  6.047289  3.694161  2.225287  4.700551  4.318307  5.523698   \n",
       "\n",
       "           7         8         9    ...       490       491       492  \\\n",
       "0     1.000000  1.000000  1.000000  ...  1.000000  1.000000  1.000000   \n",
       "1     1.006286  0.994853  0.996296  ...  0.999700  1.003001  0.999303   \n",
       "2     1.015807  0.997772  0.995982  ...  1.005640  1.008093  1.001428   \n",
       "3     1.009834  0.998855  1.004501  ...  1.011185  1.000158  0.997227   \n",
       "4     1.012022  1.007360  1.013430  ...  1.008447  1.008132  0.999344   \n",
       "...        ...       ...       ...  ...       ...       ...       ...   \n",
       "2516  6.386886  7.144086  4.499043  ...  4.425490  4.611605  4.451116   \n",
       "2517  6.366990  7.153875  4.517255  ...  4.419634  4.626710  4.460366   \n",
       "2518  6.388668  7.198015  4.466976  ...  4.426687  4.644348  4.524113   \n",
       "2519  6.380601  7.198654  4.513576  ...  4.461492  4.627660  4.538473   \n",
       "2520  6.398850  7.180219  4.509228  ...  4.470932  4.644856  4.554166   \n",
       "\n",
       "           493       494       495       496       497       498       499  \n",
       "0     1.000000  1.000000  1.000000  1.000000  1.000000  1.000000  1.000000  \n",
       "1     0.992687  0.998332  0.995936  1.001685  1.001130  0.998792  0.996399  \n",
       "2     0.989535  1.009468  0.996351  0.994408  0.989435  0.998593  0.993157  \n",
       "3     0.996643  1.003703  0.987580  1.008098  0.993742  0.994351  0.984087  \n",
       "4     0.991123  0.999001  0.978445  1.004515  0.999571  0.999840  0.984477  \n",
       "...        ...       ...       ...       ...       ...       ...       ...  \n",
       "2516  4.537915  4.699909  3.688812  4.465094  4.096441  6.120857  5.941392  \n",
       "2517  4.533437  4.671250  3.697402  4.412663  4.100131  6.151249  5.946990  \n",
       "2518  4.532432  4.667968  3.691806  4.398858  4.138338  6.204831  6.011851  \n",
       "2519  4.507107  4.670338  3.693369  4.415085  4.115521  6.223571  6.035544  \n",
       "2520  4.516226  4.652016  3.677524  4.435662  4.114975  6.186907  6.060365  \n",
       "\n",
       "[2521 rows x 500 columns]"
      ]
     },
     "execution_count": 80,
     "metadata": {},
     "output_type": "execute_result"
    }
   ],
   "source": [
    "# Running a Monte Carlo simulation to forecast 10 years cumulative returns\n",
    "MC_ten.calc_cumulative_return()"
   ]
  },
  {
   "cell_type": "code",
   "execution_count": 82,
   "metadata": {},
   "outputs": [
    {
     "data": {
      "image/png": "[encoded data removed]",
      "text/plain": [
       "<Figure size 432x288 with 1 Axes>"
      ]
     },
     "metadata": {
      "needs_background": "light"
     },
     "output_type": "display_data"
    }
   ],
   "source": [
    "# Plot simulation outcomes\n",
    "line_plot = MC_ten.plot_simulation()"
   ]
  },
  {
   "cell_type": "code",
   "execution_count": 83,
   "metadata": {},
   "outputs": [
    {
     "data": {
      "image/png": "[encoded data removed]",
      "text/plain": [
       "<Figure size 432x288 with 1 Axes>"
      ]
     },
     "metadata": {
      "needs_background": "light"
     },
     "output_type": "display_data"
    }
   ],
   "source": [
    "# Plot probability distribution and confidence intervals\n",
    "dist_plot = MC_ten.plot_distribution()"
   ]
  },
  {
   "cell_type": "code",
   "execution_count": 84,
   "metadata": {},
   "outputs": [
    {
     "name": "stdout",
     "output_type": "stream",
     "text": [
      "count           500.000000\n",
      "mean              5.323520\n",
      "std               1.458654\n",
      "min               2.225287\n",
      "25%               4.382227\n",
      "50%               5.152355\n",
      "75%               6.107989\n",
      "max              13.112080\n",
      "95% CI Lower      2.993980\n",
      "95% CI Upper      8.820859\n",
      "Name: 2520, dtype: float64\n"
     ]
    }
   ],
   "source": [
    "# Fetch summary statistics from the Monte Carlo simulation results\n",
    "even_tbl_ten= MC_ten.summarize_cumulative_return()\n",
    "\n",
    "# Print summary statistics\n",
    "print(even_tbl_ten)"
   ]
  },
  {
   "cell_type": "code",
   "execution_count": 85,
   "metadata": {},
   "outputs": [
    {
     "name": "stdout",
     "output_type": "stream",
     "text": [
      "There is a 95% chance that an initial investment of $100000 in the portfolio\n",
      "over the next 10 years will end within in the range of\n",
      "$299398.01 and $882085.88\n"
     ]
    }
   ],
   "source": [
    "# Set initial investment\n",
    "initial_investment_high = 100000\n",
    "\n",
    "# Use the lower and upper `95%` confidence intervals to calculate the range of the possible outcomes of our $100,000\n",
    "even_ci_lower_ten = round(even_tbl_ten[8]*initial_investment_high,2)\n",
    "even_ci_upper_ten = round(even_tbl_ten[9]*initial_investment_high,2)\n",
    "\n",
    "\n",
    "# Print results\n",
    "print(f\"There is a 95% chance that an initial investment of ${initial_investment_high} in the portfolio\")\n",
    "print (f\"over the next 10 years will end within in the range of\")      \n",
    "print (f\"${even_ci_lower_ten} and ${even_ci_upper_ten}\") "
   ]
  }
 ],
 "metadata": {
  "kernelspec": {
   "display_name": "Python 3 (ipykernel)",
   "language": "python",
   "name": "python3"
  },
  "language_info": {
   "codemirror_mode": {
    "name": "ipython",
    "version": 3
   },
   "file_extension": ".py",
   "mimetype": "text/x-python",
   "name": "python",
   "nbconvert_exporter": "python",
   "pygments_lexer": "ipython3",
   "version": "3.8.8"
  },
  "nteract": {
   "version": "0.28.0"
  }
 },
 "nbformat": 4,
 "nbformat_minor": 4
}
